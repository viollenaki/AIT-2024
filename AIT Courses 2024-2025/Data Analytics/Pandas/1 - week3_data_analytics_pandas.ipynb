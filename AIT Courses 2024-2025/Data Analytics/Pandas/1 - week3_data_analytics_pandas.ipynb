{
 "cells": [
  {
   "cell_type": "markdown",
   "id": "318b487f-c61a-46cb-9557-284f7d45d886",
   "metadata": {},
   "source": [
    "# Week 3 Data Analytics\n",
    "# Pandas DataFrames\n",
    "\n",
    "# Exploration and manipulation"
   ]
  },
  {
   "cell_type": "code",
   "execution_count": 1,
   "id": "282c9d34-473a-445e-a505-f535cbe93647",
   "metadata": {},
   "outputs": [],
   "source": [
    "# import libraries"
   ]
  },
  {
   "cell_type": "code",
   "execution_count": 3,
   "id": "67454ece-f81d-4b4b-b948-2bc264a8eb50",
   "metadata": {},
   "outputs": [],
   "source": [
    "import pandas as pd\n",
    "import numpy as np\n"
   ]
  },
  {
   "cell_type": "markdown",
   "id": "29138b97-e033-43b1-8635-9f0e667e8bc8",
   "metadata": {},
   "source": [
    "# Create a pandas series"
   ]
  },
  {
   "cell_type": "code",
   "execution_count": 4,
   "id": "ac5f3974-b32f-43f2-b569-29334725f86d",
   "metadata": {},
   "outputs": [],
   "source": [
    "pandas_series_data = pd.Series([1,2,3,4,np.nan,5,6])\n"
   ]
  },
  {
   "cell_type": "code",
   "execution_count": 5,
   "id": "5c824176-9407-4df9-b032-690ba9ddc2e8",
   "metadata": {},
   "outputs": [
    {
     "name": "stdout",
     "output_type": "stream",
     "text": [
      "0    1.0\n",
      "1    2.0\n",
      "2    3.0\n",
      "3    4.0\n",
      "4    NaN\n",
      "5    5.0\n",
      "6    6.0\n",
      "dtype: float64\n"
     ]
    }
   ],
   "source": [
    "print(pandas_series_data)"
   ]
  },
  {
   "cell_type": "markdown",
   "id": "40c216b1-75ba-4f1a-9942-4bad39586a3a",
   "metadata": {},
   "source": [
    "# Create a pandas DataFrame"
   ]
  },
  {
   "cell_type": "code",
   "execution_count": 6,
   "id": "0dec6ec0-31ab-4895-b789-0078c0253c96",
   "metadata": {},
   "outputs": [],
   "source": [
    "data = {\n",
    "    'Product': ['Laptop', 'Mouse', 'Keyboard'],\n",
    "    'Price': [1200, 25, 75],\n",
    "    'InStock': [True, True, False]\n",
    "}\n",
    "pandas_df_data = pd.DataFrame(data)"
   ]
  },
  {
   "cell_type": "code",
   "execution_count": 7,
   "id": "f6c43b3c-715b-4f1e-82f6-b915073966b3",
   "metadata": {},
   "outputs": [
    {
     "data": {
      "text/plain": [
       "{'Product': ['Laptop', 'Mouse', 'Keyboard'],\n",
       " 'Price': [1200, 25, 75],\n",
       " 'InStock': [True, True, False]}"
      ]
     },
     "execution_count": 7,
     "metadata": {},
     "output_type": "execute_result"
    }
   ],
   "source": [
    "data"
   ]
  },
  {
   "cell_type": "code",
   "execution_count": 6,
   "id": "c844d250-39e6-4ce1-9a2e-72ad08fd6b93",
   "metadata": {},
   "outputs": [
    {
     "name": "stdout",
     "output_type": "stream",
     "text": [
      "    Product  Price  InStock\n",
      "0    Laptop   1200     True\n",
      "1     Mouse     25     True\n",
      "2  Keyboard     75    False\n"
     ]
    }
   ],
   "source": [
    "print(pandas_df_data)"
   ]
  },
  {
   "cell_type": "code",
   "execution_count": 8,
   "id": "2ffbfe8b-4471-4ff3-9f90-657673e3e80f",
   "metadata": {},
   "outputs": [
    {
     "data": {
      "text/html": [
       "<div>\n",
       "<style scoped>\n",
       "    .dataframe tbody tr th:only-of-type {\n",
       "        vertical-align: middle;\n",
       "    }\n",
       "\n",
       "    .dataframe tbody tr th {\n",
       "        vertical-align: top;\n",
       "    }\n",
       "\n",
       "    .dataframe thead th {\n",
       "        text-align: right;\n",
       "    }\n",
       "</style>\n",
       "<table border=\"1\" class=\"dataframe\">\n",
       "  <thead>\n",
       "    <tr style=\"text-align: right;\">\n",
       "      <th></th>\n",
       "      <th>Product</th>\n",
       "      <th>Price</th>\n",
       "      <th>InStock</th>\n",
       "    </tr>\n",
       "  </thead>\n",
       "  <tbody>\n",
       "    <tr>\n",
       "      <th>0</th>\n",
       "      <td>Laptop</td>\n",
       "      <td>1200</td>\n",
       "      <td>True</td>\n",
       "    </tr>\n",
       "    <tr>\n",
       "      <th>1</th>\n",
       "      <td>Mouse</td>\n",
       "      <td>25</td>\n",
       "      <td>True</td>\n",
       "    </tr>\n",
       "    <tr>\n",
       "      <th>2</th>\n",
       "      <td>Keyboard</td>\n",
       "      <td>75</td>\n",
       "      <td>False</td>\n",
       "    </tr>\n",
       "  </tbody>\n",
       "</table>\n",
       "</div>"
      ],
      "text/plain": [
       "    Product  Price  InStock\n",
       "0    Laptop   1200     True\n",
       "1     Mouse     25     True\n",
       "2  Keyboard     75    False"
      ]
     },
     "execution_count": 8,
     "metadata": {},
     "output_type": "execute_result"
    }
   ],
   "source": [
    "pandas_df_data"
   ]
  },
  {
   "cell_type": "markdown",
   "id": "268e3cc5-eaab-4a7c-b4b3-c0ea22e38b69",
   "metadata": {},
   "source": [
    "# Importing Data "
   ]
  },
  {
   "cell_type": "code",
   "execution_count": 9,
   "id": "643878f0-9656-45c3-8b85-35dc31da5454",
   "metadata": {},
   "outputs": [],
   "source": [
    "sales_data_df = pd.read_csv('sales_data.csv')"
   ]
  },
  {
   "cell_type": "code",
   "execution_count": 10,
   "id": "4d2659ac-a9ae-4fc3-aecb-9c7287ad8bc6",
   "metadata": {},
   "outputs": [
    {
     "data": {
      "text/html": [
       "<div>\n",
       "<style scoped>\n",
       "    .dataframe tbody tr th:only-of-type {\n",
       "        vertical-align: middle;\n",
       "    }\n",
       "\n",
       "    .dataframe tbody tr th {\n",
       "        vertical-align: top;\n",
       "    }\n",
       "\n",
       "    .dataframe thead th {\n",
       "        text-align: right;\n",
       "    }\n",
       "</style>\n",
       "<table border=\"1\" class=\"dataframe\">\n",
       "  <thead>\n",
       "    <tr style=\"text-align: right;\">\n",
       "      <th></th>\n",
       "      <th>Category</th>\n",
       "      <th>Sub-Category</th>\n",
       "      <th>Sales</th>\n",
       "      <th>Quantity</th>\n",
       "      <th>Profit</th>\n",
       "    </tr>\n",
       "  </thead>\n",
       "  <tbody>\n",
       "    <tr>\n",
       "      <th>0</th>\n",
       "      <td>Technology</td>\n",
       "      <td>Paper</td>\n",
       "      <td>634.86</td>\n",
       "      <td>1</td>\n",
       "      <td>-178.47</td>\n",
       "    </tr>\n",
       "    <tr>\n",
       "      <th>1</th>\n",
       "      <td>Furniture</td>\n",
       "      <td>Storage</td>\n",
       "      <td>59.34</td>\n",
       "      <td>2</td>\n",
       "      <td>190.48</td>\n",
       "    </tr>\n",
       "    <tr>\n",
       "      <th>2</th>\n",
       "      <td>Technology</td>\n",
       "      <td>Paper</td>\n",
       "      <td>904.87</td>\n",
       "      <td>7</td>\n",
       "      <td>-0.89</td>\n",
       "    </tr>\n",
       "    <tr>\n",
       "      <th>3</th>\n",
       "      <td>Technology</td>\n",
       "      <td>Computers</td>\n",
       "      <td>910.30</td>\n",
       "      <td>4</td>\n",
       "      <td>21.95</td>\n",
       "    </tr>\n",
       "    <tr>\n",
       "      <th>4</th>\n",
       "      <td>Furniture</td>\n",
       "      <td>Accessories</td>\n",
       "      <td>782.41</td>\n",
       "      <td>8</td>\n",
       "      <td>246.80</td>\n",
       "    </tr>\n",
       "  </tbody>\n",
       "</table>\n",
       "</div>"
      ],
      "text/plain": [
       "     Category Sub-Category   Sales  Quantity  Profit\n",
       "0  Technology        Paper  634.86         1 -178.47\n",
       "1   Furniture      Storage   59.34         2  190.48\n",
       "2  Technology        Paper  904.87         7   -0.89\n",
       "3  Technology    Computers  910.30         4   21.95\n",
       "4   Furniture  Accessories  782.41         8  246.80"
      ]
     },
     "execution_count": 10,
     "metadata": {},
     "output_type": "execute_result"
    }
   ],
   "source": [
    "# print first 5 rows\n",
    "sales_data_df.head()"
   ]
  },
  {
   "cell_type": "code",
   "execution_count": 12,
   "id": "7182b02b-9f98-4534-987a-696d648ccfef",
   "metadata": {},
   "outputs": [
    {
     "data": {
      "text/html": [
       "<div>\n",
       "<style scoped>\n",
       "    .dataframe tbody tr th:only-of-type {\n",
       "        vertical-align: middle;\n",
       "    }\n",
       "\n",
       "    .dataframe tbody tr th {\n",
       "        vertical-align: top;\n",
       "    }\n",
       "\n",
       "    .dataframe thead th {\n",
       "        text-align: right;\n",
       "    }\n",
       "</style>\n",
       "<table border=\"1\" class=\"dataframe\">\n",
       "  <thead>\n",
       "    <tr style=\"text-align: right;\">\n",
       "      <th></th>\n",
       "      <th>Category</th>\n",
       "      <th>Sub-Category</th>\n",
       "      <th>Sales</th>\n",
       "      <th>Quantity</th>\n",
       "      <th>Profit</th>\n",
       "    </tr>\n",
       "  </thead>\n",
       "  <tbody>\n",
       "    <tr>\n",
       "      <th>0</th>\n",
       "      <td>Technology</td>\n",
       "      <td>Paper</td>\n",
       "      <td>634.86</td>\n",
       "      <td>1</td>\n",
       "      <td>-178.47</td>\n",
       "    </tr>\n",
       "    <tr>\n",
       "      <th>1</th>\n",
       "      <td>Furniture</td>\n",
       "      <td>Storage</td>\n",
       "      <td>59.34</td>\n",
       "      <td>2</td>\n",
       "      <td>190.48</td>\n",
       "    </tr>\n",
       "    <tr>\n",
       "      <th>2</th>\n",
       "      <td>Technology</td>\n",
       "      <td>Paper</td>\n",
       "      <td>904.87</td>\n",
       "      <td>7</td>\n",
       "      <td>-0.89</td>\n",
       "    </tr>\n",
       "    <tr>\n",
       "      <th>3</th>\n",
       "      <td>Technology</td>\n",
       "      <td>Computers</td>\n",
       "      <td>910.30</td>\n",
       "      <td>4</td>\n",
       "      <td>21.95</td>\n",
       "    </tr>\n",
       "    <tr>\n",
       "      <th>4</th>\n",
       "      <td>Furniture</td>\n",
       "      <td>Accessories</td>\n",
       "      <td>782.41</td>\n",
       "      <td>8</td>\n",
       "      <td>246.80</td>\n",
       "    </tr>\n",
       "    <tr>\n",
       "      <th>5</th>\n",
       "      <td>Furniture</td>\n",
       "      <td>Chairs</td>\n",
       "      <td>16.96</td>\n",
       "      <td>3</td>\n",
       "      <td>129.03</td>\n",
       "    </tr>\n",
       "    <tr>\n",
       "      <th>6</th>\n",
       "      <td>Technology</td>\n",
       "      <td>Phones</td>\n",
       "      <td>66.71</td>\n",
       "      <td>6</td>\n",
       "      <td>-195.97</td>\n",
       "    </tr>\n",
       "    <tr>\n",
       "      <th>7</th>\n",
       "      <td>Office Supplies</td>\n",
       "      <td>Phones</td>\n",
       "      <td>232.97</td>\n",
       "      <td>9</td>\n",
       "      <td>271.59</td>\n",
       "    </tr>\n",
       "  </tbody>\n",
       "</table>\n",
       "</div>"
      ],
      "text/plain": [
       "          Category Sub-Category   Sales  Quantity  Profit\n",
       "0       Technology        Paper  634.86         1 -178.47\n",
       "1        Furniture      Storage   59.34         2  190.48\n",
       "2       Technology        Paper  904.87         7   -0.89\n",
       "3       Technology    Computers  910.30         4   21.95\n",
       "4        Furniture  Accessories  782.41         8  246.80\n",
       "5        Furniture       Chairs   16.96         3  129.03\n",
       "6       Technology       Phones   66.71         6 -195.97\n",
       "7  Office Supplies       Phones  232.97         9  271.59"
      ]
     },
     "execution_count": 12,
     "metadata": {},
     "output_type": "execute_result"
    }
   ],
   "source": [
    "# print first 10 rows\n",
    "sales_data_df.head(8)"
   ]
  },
  {
   "cell_type": "markdown",
   "id": "37f7fb37-5206-49b3-afbd-dce19a2b2799",
   "metadata": {},
   "source": [
    "# Exploring Methods"
   ]
  },
  {
   "cell_type": "code",
   "execution_count": 11,
   "id": "46421510-2dfe-4eaa-81b7-ccc46c4004e0",
   "metadata": {},
   "outputs": [
    {
     "name": "stdout",
     "output_type": "stream",
     "text": [
      "<class 'pandas.core.frame.DataFrame'>\n",
      "RangeIndex: 994 entries, 0 to 993\n",
      "Data columns (total 5 columns):\n",
      " #   Column        Non-Null Count  Dtype  \n",
      "---  ------        --------------  -----  \n",
      " 0   Category      994 non-null    object \n",
      " 1   Sub-Category  994 non-null    object \n",
      " 2   Sales         994 non-null    float64\n",
      " 3   Quantity      994 non-null    int64  \n",
      " 4   Profit        994 non-null    float64\n",
      "dtypes: float64(2), int64(1), object(2)\n",
      "memory usage: 39.0+ KB\n"
     ]
    }
   ],
   "source": [
    "# summary of the dataset\n",
    "sales_data_df.info()"
   ]
  },
  {
   "cell_type": "code",
   "execution_count": 13,
   "id": "c06cbdb8-6ec3-4ba4-87f3-453c3b9e6560",
   "metadata": {},
   "outputs": [
    {
     "data": {
      "text/html": [
       "<div>\n",
       "<style scoped>\n",
       "    .dataframe tbody tr th:only-of-type {\n",
       "        vertical-align: middle;\n",
       "    }\n",
       "\n",
       "    .dataframe tbody tr th {\n",
       "        vertical-align: top;\n",
       "    }\n",
       "\n",
       "    .dataframe thead th {\n",
       "        text-align: right;\n",
       "    }\n",
       "</style>\n",
       "<table border=\"1\" class=\"dataframe\">\n",
       "  <thead>\n",
       "    <tr style=\"text-align: right;\">\n",
       "      <th></th>\n",
       "      <th>Sales</th>\n",
       "      <th>Quantity</th>\n",
       "      <th>Profit</th>\n",
       "    </tr>\n",
       "  </thead>\n",
       "  <tbody>\n",
       "    <tr>\n",
       "      <th>count</th>\n",
       "      <td>994.000000</td>\n",
       "      <td>994.000000</td>\n",
       "      <td>994.000000</td>\n",
       "    </tr>\n",
       "    <tr>\n",
       "      <th>mean</th>\n",
       "      <td>507.952636</td>\n",
       "      <td>4.997988</td>\n",
       "      <td>45.519577</td>\n",
       "    </tr>\n",
       "    <tr>\n",
       "      <th>std</th>\n",
       "      <td>289.783969</td>\n",
       "      <td>2.592109</td>\n",
       "      <td>145.267644</td>\n",
       "    </tr>\n",
       "    <tr>\n",
       "      <th>min</th>\n",
       "      <td>10.190000</td>\n",
       "      <td>1.000000</td>\n",
       "      <td>-199.910000</td>\n",
       "    </tr>\n",
       "    <tr>\n",
       "      <th>25%</th>\n",
       "      <td>253.622500</td>\n",
       "      <td>3.000000</td>\n",
       "      <td>-80.842500</td>\n",
       "    </tr>\n",
       "    <tr>\n",
       "      <th>50%</th>\n",
       "      <td>518.655000</td>\n",
       "      <td>5.000000</td>\n",
       "      <td>42.510000</td>\n",
       "    </tr>\n",
       "    <tr>\n",
       "      <th>75%</th>\n",
       "      <td>762.942500</td>\n",
       "      <td>7.000000</td>\n",
       "      <td>172.737500</td>\n",
       "    </tr>\n",
       "    <tr>\n",
       "      <th>max</th>\n",
       "      <td>999.720000</td>\n",
       "      <td>9.000000</td>\n",
       "      <td>298.810000</td>\n",
       "    </tr>\n",
       "  </tbody>\n",
       "</table>\n",
       "</div>"
      ],
      "text/plain": [
       "            Sales    Quantity      Profit\n",
       "count  994.000000  994.000000  994.000000\n",
       "mean   507.952636    4.997988   45.519577\n",
       "std    289.783969    2.592109  145.267644\n",
       "min     10.190000    1.000000 -199.910000\n",
       "25%    253.622500    3.000000  -80.842500\n",
       "50%    518.655000    5.000000   42.510000\n",
       "75%    762.942500    7.000000  172.737500\n",
       "max    999.720000    9.000000  298.810000"
      ]
     },
     "execution_count": 13,
     "metadata": {},
     "output_type": "execute_result"
    }
   ],
   "source": [
    "# descriptive statistics\n",
    "sales_data_df.describe()"
   ]
  },
  {
   "cell_type": "markdown",
   "id": "a36101e8-12c4-4baf-b95a-a3a9eaadffc6",
   "metadata": {},
   "source": [
    "# Selecting and filtering data"
   ]
  },
  {
   "cell_type": "code",
   "execution_count": 17,
   "id": "afe5198b-3e08-4cf1-98e5-82fbc740a87b",
   "metadata": {},
   "outputs": [
    {
     "data": {
      "text/plain": [
       "0    634.86\n",
       "1     59.34\n",
       "2    904.87\n",
       "3    910.30\n",
       "4    782.41\n",
       "Name: Sales, dtype: float64"
      ]
     },
     "execution_count": 17,
     "metadata": {},
     "output_type": "execute_result"
    }
   ],
   "source": [
    "# label based filter\n",
    "sales_data_df.loc[0:4, 'Sales']"
   ]
  },
  {
   "cell_type": "code",
   "execution_count": 18,
   "id": "67d69c44-e105-46d8-b4b4-a6b0ecf984be",
   "metadata": {},
   "outputs": [
    {
     "data": {
      "text/html": [
       "<div>\n",
       "<style scoped>\n",
       "    .dataframe tbody tr th:only-of-type {\n",
       "        vertical-align: middle;\n",
       "    }\n",
       "\n",
       "    .dataframe tbody tr th {\n",
       "        vertical-align: top;\n",
       "    }\n",
       "\n",
       "    .dataframe thead th {\n",
       "        text-align: right;\n",
       "    }\n",
       "</style>\n",
       "<table border=\"1\" class=\"dataframe\">\n",
       "  <thead>\n",
       "    <tr style=\"text-align: right;\">\n",
       "      <th></th>\n",
       "      <th>Category</th>\n",
       "      <th>Sub-Category</th>\n",
       "      <th>Sales</th>\n",
       "      <th>Quantity</th>\n",
       "      <th>Profit</th>\n",
       "    </tr>\n",
       "  </thead>\n",
       "  <tbody>\n",
       "    <tr>\n",
       "      <th>0</th>\n",
       "      <td>Technology</td>\n",
       "      <td>Paper</td>\n",
       "      <td>634.86</td>\n",
       "      <td>1</td>\n",
       "      <td>-178.47</td>\n",
       "    </tr>\n",
       "    <tr>\n",
       "      <th>1</th>\n",
       "      <td>Furniture</td>\n",
       "      <td>Storage</td>\n",
       "      <td>59.34</td>\n",
       "      <td>2</td>\n",
       "      <td>190.48</td>\n",
       "    </tr>\n",
       "  </tbody>\n",
       "</table>\n",
       "</div>"
      ],
      "text/plain": [
       "     Category Sub-Category   Sales  Quantity  Profit\n",
       "0  Technology        Paper  634.86         1 -178.47\n",
       "1   Furniture      Storage   59.34         2  190.48"
      ]
     },
     "execution_count": 18,
     "metadata": {},
     "output_type": "execute_result"
    }
   ],
   "source": [
    "sales_data_df.head(2)"
   ]
  },
  {
   "cell_type": "code",
   "execution_count": 22,
   "id": "b0fd4243-d165-467f-8c50-26542cdf433d",
   "metadata": {},
   "outputs": [
    {
     "data": {
      "text/plain": [
       "0    634.86\n",
       "1     59.34\n",
       "2    904.87\n",
       "3    910.30\n",
       "4    782.41\n",
       "Name: Sales, dtype: float64"
      ]
     },
     "execution_count": 22,
     "metadata": {},
     "output_type": "execute_result"
    }
   ],
   "source": [
    "# position based filter\n",
    "sales_data_df.iloc[0:5, 2]"
   ]
  },
  {
   "cell_type": "code",
   "execution_count": 23,
   "id": "8392c961-de21-4e16-ba3f-395c4fd147b8",
   "metadata": {},
   "outputs": [
    {
     "data": {
      "text/html": [
       "<div>\n",
       "<style scoped>\n",
       "    .dataframe tbody tr th:only-of-type {\n",
       "        vertical-align: middle;\n",
       "    }\n",
       "\n",
       "    .dataframe tbody tr th {\n",
       "        vertical-align: top;\n",
       "    }\n",
       "\n",
       "    .dataframe thead th {\n",
       "        text-align: right;\n",
       "    }\n",
       "</style>\n",
       "<table border=\"1\" class=\"dataframe\">\n",
       "  <thead>\n",
       "    <tr style=\"text-align: right;\">\n",
       "      <th></th>\n",
       "      <th>Category</th>\n",
       "      <th>Sub-Category</th>\n",
       "      <th>Sales</th>\n",
       "      <th>Quantity</th>\n",
       "      <th>Profit</th>\n",
       "    </tr>\n",
       "  </thead>\n",
       "  <tbody>\n",
       "    <tr>\n",
       "      <th>0</th>\n",
       "      <td>Technology</td>\n",
       "      <td>Paper</td>\n",
       "      <td>634.86</td>\n",
       "      <td>1</td>\n",
       "      <td>-178.47</td>\n",
       "    </tr>\n",
       "    <tr>\n",
       "      <th>1</th>\n",
       "      <td>Furniture</td>\n",
       "      <td>Storage</td>\n",
       "      <td>59.34</td>\n",
       "      <td>2</td>\n",
       "      <td>190.48</td>\n",
       "    </tr>\n",
       "    <tr>\n",
       "      <th>2</th>\n",
       "      <td>Technology</td>\n",
       "      <td>Paper</td>\n",
       "      <td>904.87</td>\n",
       "      <td>7</td>\n",
       "      <td>-0.89</td>\n",
       "    </tr>\n",
       "    <tr>\n",
       "      <th>3</th>\n",
       "      <td>Technology</td>\n",
       "      <td>Computers</td>\n",
       "      <td>910.30</td>\n",
       "      <td>4</td>\n",
       "      <td>21.95</td>\n",
       "    </tr>\n",
       "    <tr>\n",
       "      <th>4</th>\n",
       "      <td>Furniture</td>\n",
       "      <td>Accessories</td>\n",
       "      <td>782.41</td>\n",
       "      <td>8</td>\n",
       "      <td>246.80</td>\n",
       "    </tr>\n",
       "  </tbody>\n",
       "</table>\n",
       "</div>"
      ],
      "text/plain": [
       "     Category Sub-Category   Sales  Quantity  Profit\n",
       "0  Technology        Paper  634.86         1 -178.47\n",
       "1   Furniture      Storage   59.34         2  190.48\n",
       "2  Technology        Paper  904.87         7   -0.89\n",
       "3  Technology    Computers  910.30         4   21.95\n",
       "4   Furniture  Accessories  782.41         8  246.80"
      ]
     },
     "execution_count": 23,
     "metadata": {},
     "output_type": "execute_result"
    }
   ],
   "source": [
    "sales_data_df.head()"
   ]
  },
  {
   "cell_type": "markdown",
   "id": "b0a182d0-1ddf-4d33-9ce5-679450a562fc",
   "metadata": {},
   "source": [
    "# Conditional filtering \n"
   ]
  },
  {
   "cell_type": "code",
   "execution_count": 24,
   "id": "140cc045-11c6-41b0-8ddb-2019fb4814d7",
   "metadata": {},
   "outputs": [
    {
     "data": {
      "text/html": [
       "<div>\n",
       "<style scoped>\n",
       "    .dataframe tbody tr th:only-of-type {\n",
       "        vertical-align: middle;\n",
       "    }\n",
       "\n",
       "    .dataframe tbody tr th {\n",
       "        vertical-align: top;\n",
       "    }\n",
       "\n",
       "    .dataframe thead th {\n",
       "        text-align: right;\n",
       "    }\n",
       "</style>\n",
       "<table border=\"1\" class=\"dataframe\">\n",
       "  <thead>\n",
       "    <tr style=\"text-align: right;\">\n",
       "      <th></th>\n",
       "      <th>Category</th>\n",
       "      <th>Sub-Category</th>\n",
       "      <th>Sales</th>\n",
       "      <th>Quantity</th>\n",
       "      <th>Profit</th>\n",
       "    </tr>\n",
       "  </thead>\n",
       "  <tbody>\n",
       "    <tr>\n",
       "      <th>0</th>\n",
       "      <td>Technology</td>\n",
       "      <td>Paper</td>\n",
       "      <td>634.86</td>\n",
       "      <td>1</td>\n",
       "      <td>-178.47</td>\n",
       "    </tr>\n",
       "    <tr>\n",
       "      <th>2</th>\n",
       "      <td>Technology</td>\n",
       "      <td>Paper</td>\n",
       "      <td>904.87</td>\n",
       "      <td>7</td>\n",
       "      <td>-0.89</td>\n",
       "    </tr>\n",
       "    <tr>\n",
       "      <th>3</th>\n",
       "      <td>Technology</td>\n",
       "      <td>Computers</td>\n",
       "      <td>910.30</td>\n",
       "      <td>4</td>\n",
       "      <td>21.95</td>\n",
       "    </tr>\n",
       "    <tr>\n",
       "      <th>4</th>\n",
       "      <td>Furniture</td>\n",
       "      <td>Accessories</td>\n",
       "      <td>782.41</td>\n",
       "      <td>8</td>\n",
       "      <td>246.80</td>\n",
       "    </tr>\n",
       "    <tr>\n",
       "      <th>10</th>\n",
       "      <td>Technology</td>\n",
       "      <td>Bookcases</td>\n",
       "      <td>923.40</td>\n",
       "      <td>8</td>\n",
       "      <td>184.06</td>\n",
       "    </tr>\n",
       "  </tbody>\n",
       "</table>\n",
       "</div>"
      ],
      "text/plain": [
       "      Category Sub-Category   Sales  Quantity  Profit\n",
       "0   Technology        Paper  634.86         1 -178.47\n",
       "2   Technology        Paper  904.87         7   -0.89\n",
       "3   Technology    Computers  910.30         4   21.95\n",
       "4    Furniture  Accessories  782.41         8  246.80\n",
       "10  Technology    Bookcases  923.40         8  184.06"
      ]
     },
     "execution_count": 24,
     "metadata": {},
     "output_type": "execute_result"
    }
   ],
   "source": [
    "# filter raws where Sales are greater than 500?\n",
    "high_sales = sales_data_df[sales_data_df['Sales'] > 500]\n",
    "high_sales.head()"
   ]
  },
  {
   "cell_type": "code",
   "execution_count": 25,
   "id": "24016d76-768b-41f8-a113-9d76ce18dbb0",
   "metadata": {},
   "outputs": [
    {
     "data": {
      "text/html": [
       "<div>\n",
       "<style scoped>\n",
       "    .dataframe tbody tr th:only-of-type {\n",
       "        vertical-align: middle;\n",
       "    }\n",
       "\n",
       "    .dataframe tbody tr th {\n",
       "        vertical-align: top;\n",
       "    }\n",
       "\n",
       "    .dataframe thead th {\n",
       "        text-align: right;\n",
       "    }\n",
       "</style>\n",
       "<table border=\"1\" class=\"dataframe\">\n",
       "  <thead>\n",
       "    <tr style=\"text-align: right;\">\n",
       "      <th></th>\n",
       "      <th>Category</th>\n",
       "      <th>Sub-Category</th>\n",
       "      <th>Sales</th>\n",
       "      <th>Quantity</th>\n",
       "      <th>Profit</th>\n",
       "    </tr>\n",
       "  </thead>\n",
       "  <tbody>\n",
       "    <tr>\n",
       "      <th>3</th>\n",
       "      <td>Technology</td>\n",
       "      <td>Computers</td>\n",
       "      <td>910.30</td>\n",
       "      <td>4</td>\n",
       "      <td>21.95</td>\n",
       "    </tr>\n",
       "    <tr>\n",
       "      <th>4</th>\n",
       "      <td>Furniture</td>\n",
       "      <td>Accessories</td>\n",
       "      <td>782.41</td>\n",
       "      <td>8</td>\n",
       "      <td>246.80</td>\n",
       "    </tr>\n",
       "    <tr>\n",
       "      <th>10</th>\n",
       "      <td>Technology</td>\n",
       "      <td>Bookcases</td>\n",
       "      <td>923.40</td>\n",
       "      <td>8</td>\n",
       "      <td>184.06</td>\n",
       "    </tr>\n",
       "    <tr>\n",
       "      <th>18</th>\n",
       "      <td>Office Supplies</td>\n",
       "      <td>Bookcases</td>\n",
       "      <td>789.26</td>\n",
       "      <td>3</td>\n",
       "      <td>242.18</td>\n",
       "    </tr>\n",
       "    <tr>\n",
       "      <th>19</th>\n",
       "      <td>Office Supplies</td>\n",
       "      <td>Paper</td>\n",
       "      <td>975.09</td>\n",
       "      <td>9</td>\n",
       "      <td>79.70</td>\n",
       "    </tr>\n",
       "  </tbody>\n",
       "</table>\n",
       "</div>"
      ],
      "text/plain": [
       "           Category Sub-Category   Sales  Quantity  Profit\n",
       "3        Technology    Computers  910.30         4   21.95\n",
       "4         Furniture  Accessories  782.41         8  246.80\n",
       "10       Technology    Bookcases  923.40         8  184.06\n",
       "18  Office Supplies    Bookcases  789.26         3  242.18\n",
       "19  Office Supplies        Paper  975.09         9   79.70"
      ]
     },
     "execution_count": 25,
     "metadata": {},
     "output_type": "execute_result"
    }
   ],
   "source": [
    "# filter rows with multiple conditions\n",
    "profitable_high_sales = high_sales[\n",
    "    (high_sales['Sales'] > 500) & (high_sales['Profit'] > 0)\n",
    "]\n",
    "profitable_high_sales.head()"
   ]
  },
  {
   "cell_type": "markdown",
   "id": "1e9f8846-f0f2-4243-a56c-198a90e02d40",
   "metadata": {},
   "source": [
    "# Sorting DataFrames"
   ]
  },
  {
   "cell_type": "code",
   "execution_count": 26,
   "id": "d152baf6-3187-43fa-9287-4ec06071069c",
   "metadata": {},
   "outputs": [
    {
     "data": {
      "text/html": [
       "<div>\n",
       "<style scoped>\n",
       "    .dataframe tbody tr th:only-of-type {\n",
       "        vertical-align: middle;\n",
       "    }\n",
       "\n",
       "    .dataframe tbody tr th {\n",
       "        vertical-align: top;\n",
       "    }\n",
       "\n",
       "    .dataframe thead th {\n",
       "        text-align: right;\n",
       "    }\n",
       "</style>\n",
       "<table border=\"1\" class=\"dataframe\">\n",
       "  <thead>\n",
       "    <tr style=\"text-align: right;\">\n",
       "      <th></th>\n",
       "      <th>Category</th>\n",
       "      <th>Sub-Category</th>\n",
       "      <th>Sales</th>\n",
       "      <th>Quantity</th>\n",
       "      <th>Profit</th>\n",
       "    </tr>\n",
       "  </thead>\n",
       "  <tbody>\n",
       "    <tr>\n",
       "      <th>471</th>\n",
       "      <td>Office Supplies</td>\n",
       "      <td>Paper</td>\n",
       "      <td>999.72</td>\n",
       "      <td>5</td>\n",
       "      <td>-58.32</td>\n",
       "    </tr>\n",
       "    <tr>\n",
       "      <th>941</th>\n",
       "      <td>Office Supplies</td>\n",
       "      <td>Bookcases</td>\n",
       "      <td>999.55</td>\n",
       "      <td>1</td>\n",
       "      <td>131.68</td>\n",
       "    </tr>\n",
       "    <tr>\n",
       "      <th>659</th>\n",
       "      <td>Office Supplies</td>\n",
       "      <td>Chairs</td>\n",
       "      <td>999.47</td>\n",
       "      <td>4</td>\n",
       "      <td>-67.00</td>\n",
       "    </tr>\n",
       "    <tr>\n",
       "      <th>143</th>\n",
       "      <td>Office Supplies</td>\n",
       "      <td>Tables</td>\n",
       "      <td>997.11</td>\n",
       "      <td>6</td>\n",
       "      <td>52.31</td>\n",
       "    </tr>\n",
       "    <tr>\n",
       "      <th>520</th>\n",
       "      <td>Furniture</td>\n",
       "      <td>Bookcases</td>\n",
       "      <td>996.16</td>\n",
       "      <td>9</td>\n",
       "      <td>-115.06</td>\n",
       "    </tr>\n",
       "  </tbody>\n",
       "</table>\n",
       "</div>"
      ],
      "text/plain": [
       "            Category Sub-Category   Sales  Quantity  Profit\n",
       "471  Office Supplies        Paper  999.72         5  -58.32\n",
       "941  Office Supplies    Bookcases  999.55         1  131.68\n",
       "659  Office Supplies       Chairs  999.47         4  -67.00\n",
       "143  Office Supplies       Tables  997.11         6   52.31\n",
       "520        Furniture    Bookcases  996.16         9 -115.06"
      ]
     },
     "execution_count": 26,
     "metadata": {},
     "output_type": "execute_result"
    }
   ],
   "source": [
    "# sort by a single column\n",
    "df_sorted = high_sales.sort_values(by='Sales', ascending=False)\n",
    "df_sorted.head()"
   ]
  },
  {
   "cell_type": "code",
   "execution_count": 27,
   "id": "df289147-6b52-4faa-921e-67cbb9e86d0f",
   "metadata": {},
   "outputs": [
    {
     "data": {
      "text/html": [
       "<div>\n",
       "<style scoped>\n",
       "    .dataframe tbody tr th:only-of-type {\n",
       "        vertical-align: middle;\n",
       "    }\n",
       "\n",
       "    .dataframe tbody tr th {\n",
       "        vertical-align: top;\n",
       "    }\n",
       "\n",
       "    .dataframe thead th {\n",
       "        text-align: right;\n",
       "    }\n",
       "</style>\n",
       "<table border=\"1\" class=\"dataframe\">\n",
       "  <thead>\n",
       "    <tr style=\"text-align: right;\">\n",
       "      <th></th>\n",
       "      <th>Category</th>\n",
       "      <th>Sub-Category</th>\n",
       "      <th>Sales</th>\n",
       "      <th>Quantity</th>\n",
       "      <th>Profit</th>\n",
       "    </tr>\n",
       "  </thead>\n",
       "  <tbody>\n",
       "    <tr>\n",
       "      <th>795</th>\n",
       "      <td>Furniture</td>\n",
       "      <td>Storage</td>\n",
       "      <td>898.70</td>\n",
       "      <td>4</td>\n",
       "      <td>297.74</td>\n",
       "    </tr>\n",
       "    <tr>\n",
       "      <th>492</th>\n",
       "      <td>Furniture</td>\n",
       "      <td>Phones</td>\n",
       "      <td>748.40</td>\n",
       "      <td>9</td>\n",
       "      <td>297.29</td>\n",
       "    </tr>\n",
       "    <tr>\n",
       "      <th>231</th>\n",
       "      <td>Furniture</td>\n",
       "      <td>Binders</td>\n",
       "      <td>631.96</td>\n",
       "      <td>5</td>\n",
       "      <td>297.21</td>\n",
       "    </tr>\n",
       "    <tr>\n",
       "      <th>422</th>\n",
       "      <td>Furniture</td>\n",
       "      <td>Paper</td>\n",
       "      <td>843.31</td>\n",
       "      <td>3</td>\n",
       "      <td>293.87</td>\n",
       "    </tr>\n",
       "    <tr>\n",
       "      <th>772</th>\n",
       "      <td>Furniture</td>\n",
       "      <td>Paper</td>\n",
       "      <td>543.42</td>\n",
       "      <td>8</td>\n",
       "      <td>290.62</td>\n",
       "    </tr>\n",
       "  </tbody>\n",
       "</table>\n",
       "</div>"
      ],
      "text/plain": [
       "      Category Sub-Category   Sales  Quantity  Profit\n",
       "795  Furniture      Storage  898.70         4  297.74\n",
       "492  Furniture       Phones  748.40         9  297.29\n",
       "231  Furniture      Binders  631.96         5  297.21\n",
       "422  Furniture        Paper  843.31         3  293.87\n",
       "772  Furniture        Paper  543.42         8  290.62"
      ]
     },
     "execution_count": 27,
     "metadata": {},
     "output_type": "execute_result"
    }
   ],
   "source": [
    "# sort by a multiple column\n",
    "# Category by asc, profit by desc\n",
    "\n",
    "df_multi_sorted = high_sales.sort_values(by=['Category','Profit'], ascending=[True, False])\n",
    "df_multi_sorted.head()\n",
    "\n"
   ]
  },
  {
   "cell_type": "markdown",
   "id": "d7b21a80-9fb2-407a-90dd-fb29d3e28515",
   "metadata": {},
   "source": [
    "# Adding calculated columns"
   ]
  },
  {
   "cell_type": "code",
   "execution_count": 28,
   "id": "b5c787b9-4d0b-4b6a-8d78-44609379d196",
   "metadata": {},
   "outputs": [],
   "source": [
    "sales_data_df['Profit_Margin'] = (sales_data_df['Profit'] / sales_data_df['Sales']) * 100\n"
   ]
  },
  {
   "cell_type": "code",
   "execution_count": 29,
   "id": "bbf21620-607c-4ae1-8f71-2642f6003eeb",
   "metadata": {},
   "outputs": [
    {
     "data": {
      "text/html": [
       "<div>\n",
       "<style scoped>\n",
       "    .dataframe tbody tr th:only-of-type {\n",
       "        vertical-align: middle;\n",
       "    }\n",
       "\n",
       "    .dataframe tbody tr th {\n",
       "        vertical-align: top;\n",
       "    }\n",
       "\n",
       "    .dataframe thead th {\n",
       "        text-align: right;\n",
       "    }\n",
       "</style>\n",
       "<table border=\"1\" class=\"dataframe\">\n",
       "  <thead>\n",
       "    <tr style=\"text-align: right;\">\n",
       "      <th></th>\n",
       "      <th>Sales</th>\n",
       "      <th>Profit</th>\n",
       "      <th>Profit_Margin</th>\n",
       "    </tr>\n",
       "  </thead>\n",
       "  <tbody>\n",
       "    <tr>\n",
       "      <th>0</th>\n",
       "      <td>634.86</td>\n",
       "      <td>-178.47</td>\n",
       "      <td>-28.111710</td>\n",
       "    </tr>\n",
       "    <tr>\n",
       "      <th>1</th>\n",
       "      <td>59.34</td>\n",
       "      <td>190.48</td>\n",
       "      <td>320.997641</td>\n",
       "    </tr>\n",
       "    <tr>\n",
       "      <th>2</th>\n",
       "      <td>904.87</td>\n",
       "      <td>-0.89</td>\n",
       "      <td>-0.098357</td>\n",
       "    </tr>\n",
       "    <tr>\n",
       "      <th>3</th>\n",
       "      <td>910.30</td>\n",
       "      <td>21.95</td>\n",
       "      <td>2.411293</td>\n",
       "    </tr>\n",
       "    <tr>\n",
       "      <th>4</th>\n",
       "      <td>782.41</td>\n",
       "      <td>246.80</td>\n",
       "      <td>31.543564</td>\n",
       "    </tr>\n",
       "  </tbody>\n",
       "</table>\n",
       "</div>"
      ],
      "text/plain": [
       "    Sales  Profit  Profit_Margin\n",
       "0  634.86 -178.47     -28.111710\n",
       "1   59.34  190.48     320.997641\n",
       "2  904.87   -0.89      -0.098357\n",
       "3  910.30   21.95       2.411293\n",
       "4  782.41  246.80      31.543564"
      ]
     },
     "execution_count": 29,
     "metadata": {},
     "output_type": "execute_result"
    }
   ],
   "source": [
    "sales_data_df[['Sales', 'Profit', 'Profit_Margin']].head()"
   ]
  }
 ],
 "metadata": {
  "kernelspec": {
   "display_name": "Python (jupyter_env)",
   "language": "python",
   "name": "jupyter_env"
  },
  "language_info": {
   "codemirror_mode": {
    "name": "ipython",
    "version": 3
   },
   "file_extension": ".py",
   "mimetype": "text/x-python",
   "name": "python",
   "nbconvert_exporter": "python",
   "pygments_lexer": "ipython3",
   "version": "3.11.13"
  }
 },
 "nbformat": 4,
 "nbformat_minor": 5
}
