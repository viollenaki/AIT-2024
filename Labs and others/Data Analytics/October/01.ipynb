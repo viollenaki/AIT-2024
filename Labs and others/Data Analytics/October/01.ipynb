{
 "cells": [
  {
   "cell_type": "code",
   "execution_count": null,
   "id": "617f77e4",
   "metadata": {},
   "outputs": [],
   "source": [
    "import numpy as np\n",
    "a = np.array([[1,2,3],[4,5,6]])\n",
    "zeros = np.zeros((4,4))\n",
    "\n",
    "ones = np.ones(5)\n",
    "\n",
    "r = np.arange(0,10,2)\n",
    "lin = np.linspace(0,5,1)\n",
    "\n",
    "print(a)\n",
    "print(zeros)\n",
    "print(ones)\n",
    "print(r)\n",
    "print(lin)\n",
    "\n"
   ]
  },
  {
   "cell_type": "code",
   "execution_count": null,
   "id": "2334585b",
   "metadata": {},
   "outputs": [],
   "source": [
    "\n",
    "import numpy as np\n",
    "a = np.array([\n",
    "    [1,2,3],\n",
    "    [4,5,6]])\n",
    "print(a[:,1])\n",
    "\n",
    "v = np.array([1,2,3,5])\n",
    "s = v[1:3]\n",
    "s[0] = 999\n",
    "print(v)\n",
    "\n",
    "b = v[1:3].copy()\n",
    "b[1] = 123\n",
    "\n",
    "print(v)"
   ]
  },
  {
   "cell_type": "code",
   "execution_count": null,
   "id": "5c09d4d8",
   "metadata": {},
   "outputs": [],
   "source": [
    "import numpy as np\n",
    "\n",
    "a = np.array([1,2,3,4])\n",
    "b = np.array([4,5,6,7])\n",
    "\n",
    "print(a+b)\n",
    "print(a*2)\n",
    "print(a*b)\n",
    "print(np.dot(a,b))\n",
    "\n"
   ]
  },
  {
   "cell_type": "code",
   "execution_count": null,
   "id": "2af0568f",
   "metadata": {},
   "outputs": [],
   "source": [
    "import numpy as np\n",
    "\n",
    "a = np.ones((2,3))\n",
    "v = np.array([1,2,3])\n",
    "print(a+v)\n"
   ]
  },
  {
   "cell_type": "code",
   "execution_count": null,
   "id": "96bfe712",
   "metadata": {},
   "outputs": [],
   "source": [
    "import numpy as np\n",
    "\n",
    "a = np.array([[1],[2],[3]])\n",
    "v = np.array([10,20,30])\n",
    "print(a+v)\n"
   ]
  },
  {
   "cell_type": "code",
   "execution_count": null,
   "id": "db9cda64",
   "metadata": {},
   "outputs": [],
   "source": [
    "import numpy as np\n",
    "\n",
    "data = np.array([\n",
    "    [1,2,3],\n",
    "    [4,5,6]\n",
    "    ])\n",
    "\n",
    "print(data.sum())\n",
    "print(data.sum(axis=0))\n",
    "print(data.sum(axis=1))"
   ]
  },
  {
   "cell_type": "code",
   "execution_count": null,
   "id": "1a649599",
   "metadata": {},
   "outputs": [],
   "source": [
    "import numpy as np\n",
    "\n",
    "A = np.array([[1,2],[3,4]])\n",
    "\n",
    "np.linalg.inv(A)"
   ]
  },
  {
   "cell_type": "code",
   "execution_count": null,
   "id": "3c023787",
   "metadata": {},
   "outputs": [],
   "source": [
    "a = np.arange(0,10,1)\n",
    "b = np.linspace(0,1.1,10)\n",
    "print(b)\n",
    "print(a)"
   ]
  },
  {
   "cell_type": "code",
   "execution_count": null,
   "id": "d913df26",
   "metadata": {},
   "outputs": [],
   "source": [
    "print(np.zeros((3,3)))\n",
    "print(np.identity(4))\n",
    "print(np.arange(0,1.1,0.1))"
   ]
  },
  {
   "cell_type": "code",
   "execution_count": null,
   "id": "32bdce53",
   "metadata": {},
   "outputs": [],
   "source": [
    "# Exercise 2.1:** Given the array `[10,20,30,40,50]`, extract:\n",
    "# -\n",
    "# The first element\n",
    "# -\n",
    "# The last element\n",
    "# -\n",
    "# Elements from index 1 to 3 (inclusive)\n",
    "# -\n",
    "# Reverse the array\n",
    "arr = np.array([10,20,30,40,50])\n",
    "    \n",
    "print(arr[0], arr[-1], arr[1:4], arr[::-1])\n"
   ]
  },
  {
   "cell_type": "code",
   "execution_count": null,
   "id": "9f2d423f",
   "metadata": {},
   "outputs": [],
   "source": [
    "# Exercise 3.1:** Let `a = [1,2,3]` and `b = [4,5,6]`. Compute:\n",
    "# -\n",
    "# Element\n",
    "# -\n",
    "# w\n",
    "# ise sum\n",
    "# -\n",
    "# Element\n",
    "# -\n",
    "# wise product\n",
    "# -\n",
    "# Dot product\n",
    "# -\n",
    "# Square of each element in `a\n",
    "\n",
    "a = np.array([1,2,3])\n",
    "b = np.array([4,5,6])\n",
    "print(a+b)\n",
    "print(a * b)\n",
    "print(np.dot(a,b))\n",
    "p = int(input())\n",
    "print(a**p)"
   ]
  },
  {
   "cell_type": "code",
   "execution_count": null,
   "id": "e20f19ec",
   "metadata": {},
   "outputs": [],
   "source": [
    "one = np.ones((2,3))\n",
    "arr = np.array([1,2,3])\n",
    "print(one+arr)"
   ]
  },
  {
   "cell_type": "code",
   "execution_count": null,
   "id": "bc965b0c",
   "metadata": {},
   "outputs": [],
   "source": [
    "arr = np.array([1,2,3,4,5,6])\n",
    "print(arr.mean(), arr.max(),arr.min(),arr.std())"
   ]
  },
  {
   "cell_type": "code",
   "execution_count": 61,
   "id": "c6bb1d30",
   "metadata": {},
   "outputs": [
    {
     "name": "stdout",
     "output_type": "stream",
     "text": [
      "List time: 1.253371000289917\n",
      "NumPy time: 0.04440593719482422\n",
      "List / NumPy ratio: 28.22530227863325\n"
     ]
    }
   ],
   "source": [
    "import numpy as np\n",
    "from random import randint\n",
    "from time import time\n",
    "\n",
    "# Берём больше данных, чтобы разница была заметна\n",
    "N = 10_000_000  \n",
    "x = [randint(0, 50) for i in range(N)]\n",
    "\n",
    "# --- Обычный список ---\n",
    "x_copy = x.copy()\n",
    "start1 = time()\n",
    "for i in range(len(x_copy)):\n",
    "    x_copy[i] = x_copy[i] * 10\n",
    "end1 = time()\n",
    "time_list = end1 - start1\n",
    "print(\"List time:\", time_list)\n",
    "\n",
    "# --- NumPy ---\n",
    "y = np.array(x)\n",
    "start2 = time()\n",
    "y = y * 10\n",
    "end2 = time()\n",
    "time_numpy = end2 - start2\n",
    "print(\"NumPy time:\", time_numpy)\n",
    "\n",
    "# Разница\n",
    "print(\"List / NumPy ratio:\", time_list / time_numpy)\n"
   ]
  },
  {
   "cell_type": "code",
   "execution_count": null,
   "id": "038f8b04",
   "metadata": {},
   "outputs": [],
   "source": [
    "\n"
   ]
  }
 ],
 "metadata": {
  "kernelspec": {
   "display_name": "Python 3",
   "language": "python",
   "name": "python3"
  },
  "language_info": {
   "codemirror_mode": {
    "name": "ipython",
    "version": 3
   },
   "file_extension": ".py",
   "mimetype": "text/x-python",
   "name": "python",
   "nbconvert_exporter": "python",
   "pygments_lexer": "ipython3",
   "version": "3.13.7"
  }
 },
 "nbformat": 4,
 "nbformat_minor": 5
}
