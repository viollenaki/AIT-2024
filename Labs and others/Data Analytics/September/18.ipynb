{
 "cells": [
  {
   "cell_type": "code",
   "execution_count": 14,
   "id": "7f8bf754",
   "metadata": {},
   "outputs": [
    {
     "name": "stdout",
     "output_type": "stream",
     "text": [
      "Original daily sales: [ 0  1  2  3  4  5  6  7  8  9 10 11 12 13 14 15]\n",
      "Reshaped sales (3x4):\n",
      " [[ 0  1  2  3]\n",
      " [ 4  5  6  7]\n",
      " [ 8  9 10 11]\n",
      " [12 13 14 15]]\n",
      "Auto reshaped sales (3x4):\n",
      " [[ 0  1  2  3]\n",
      " [ 4  5  6  7]\n",
      " [ 8  9 10 11]\n",
      " [12 13 14 15]]\n"
     ]
    }
   ],
   "source": [
    "import numpy as np\n",
    "\n",
    "daily_sales = np.arange(16)\n",
    "\n",
    "reshaped_sales = daily_sales.reshape(4, 4)\n",
    "\n",
    "auto_reshape = daily_sales.reshape(4, -1)\n",
    "\n",
    "print(\"Original daily sales:\", daily_sales)\n",
    "print(\"Reshaped sales (3x4):\\n\", reshaped_sales)\n",
    "print(\"Auto reshaped sales (3x4):\\n\", auto_reshape)"
   ]
  },
  {
   "cell_type": "code",
   "execution_count": 15,
   "id": "e6752999",
   "metadata": {},
   "outputs": [
    {
     "name": "stdout",
     "output_type": "stream",
     "text": [
      "Vertically stacked array:\n",
      " [[ 1  2  3]\n",
      " [ 4  5  6]\n",
      " [ 7  8  9]\n",
      " [10 11 12]]\n",
      "Horizontally stacked array:\n",
      " [[ 1  2  3  7  8  9]\n",
      " [ 4  5  6 10 11 12]]\n"
     ]
    }
   ],
   "source": [
    "import numpy as np\n",
    "\n",
    "array1 = np.array([[1, 2, 3], [4, 5, 6]])\n",
    "array2 = np.array([[7, 8, 9], [10, 11, 12]])\n",
    "\n",
    "v_stacked = np.vstack((array1, array2))\n",
    "h_stacked = np.hstack((array1, array2))\n",
    "\n",
    "print(\"Vertically stacked array:\\n\", v_stacked)\n",
    "print(\"Horizontally stacked array:\\n\", h_stacked)"
   ]
  },
  {
   "cell_type": "code",
   "execution_count": 22,
   "id": "30ffc686",
   "metadata": {},
   "outputs": [
    {
     "name": "stdout",
     "output_type": "stream",
     "text": [
      "DataFrame head:\n",
      "        X           Y\n",
      "0    1.0   13.990142\n",
      "1    2.0   14.585207\n",
      "2    3.0   19.443066\n",
      "3    4.0   24.569090\n",
      "4    5.0   21.797540\n",
      "5    6.0   24.297589\n",
      "6    7.0   32.237638\n",
      "7    8.0   32.302304\n",
      "8    9.0   31.091577\n",
      "9   10.0   36.627680\n",
      "10  11.0   36.109747\n",
      "11  12.0   38.602811\n",
      "12  13.0   43.225887\n",
      "13  14.0   39.260159\n",
      "14  15.0   42.325247\n",
      "15  16.0   48.313137\n",
      "16  17.0   49.461507\n",
      "17  18.0   55.942742\n",
      "18  19.0   54.775928\n",
      "19  20.0   55.763089\n",
      "20  21.0   66.896946\n",
      "21  22.0   64.322671\n",
      "22  23.0   67.702585\n",
      "23  24.0   65.725755\n",
      "24  25.0   70.866852\n",
      "25  26.0   75.332768\n",
      "26  27.0   74.047019\n",
      "27  28.0   81.127094\n",
      "28  29.0   80.698084\n",
      "29  30.0   84.124919\n",
      "30  31.0   85.694880\n",
      "31  32.0   95.556835\n",
      "32  33.0   92.459508\n",
      "33  34.0   91.826867\n",
      "34  35.0   99.967635\n",
      "35  36.0   96.337469\n",
      "36  37.0  103.126591\n",
      "37  38.0   99.120990\n",
      "38  39.0  103.515442\n",
      "39  40.0  110.590584\n",
      "40  41.0  114.715400\n",
      "41  42.0  115.514105\n",
      "42  43.0  117.153055\n",
      "43  44.0  119.096689\n",
      "44  45.0  118.064434\n",
      "45  46.0  122.840467\n",
      "46  47.0  126.118084\n",
      "47  48.0  133.171367\n",
      "48  49.0  133.530855\n",
      "49  50.0  129.710880\n"
     ]
    }
   ],
   "source": [
    "import pandas as pd\n",
    "import numpy as np\n",
    "\n",
    "# Generate synthetic regression data\n",
    "np.random.seed(42)\n",
    "X = np.linspace(1, 50, 50)\n",
    "noise = np.random.normal(0, 3, 50)\n",
    "Y = 2.5 * X + 10 + noise  # Linear relation with noise\n",
    "\n",
    "# Create DataFrame\n",
    "df = pd.DataFrame({\n",
    "    \"X\": X,\n",
    "    \"Y\": Y\n",
    "})\n",
    "\n",
    "# Save to Excel\n",
    "print(\"DataFrame head:\\n\", df)\n"
   ]
  },
  {
   "cell_type": "code",
   "execution_count": null,
   "id": "22ed66e2",
   "metadata": {},
   "outputs": [],
   "source": []
  }
 ],
 "metadata": {
  "kernelspec": {
   "display_name": "Python 3",
   "language": "python",
   "name": "python3"
  },
  "language_info": {
   "codemirror_mode": {
    "name": "ipython",
    "version": 3
   },
   "file_extension": ".py",
   "mimetype": "text/x-python",
   "name": "python",
   "nbconvert_exporter": "python",
   "pygments_lexer": "ipython3",
   "version": "3.13.7"
  }
 },
 "nbformat": 4,
 "nbformat_minor": 5
}
