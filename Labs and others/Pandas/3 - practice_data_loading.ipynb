{
 "cells": [
  {
   "cell_type": "markdown",
   "id": "75b2b483-0781-428a-9037-39ec98115948",
   "metadata": {},
   "source": [
    "# **Hands-on Practice Lab: Importing Dataset - Laptops Pricing**\n",
    "\n",
    "Estimated time needed: **20** minutes\n",
    "\n",
    "In this lab, you will practice the process of loading and drawing basic insights on a dataset as learnt through the module. You are being provided with a fresh dataset on 'Laptop Pricing' which will be used for all the practice labs throughout the course.\n"
   ]
  },
  {
   "cell_type": "markdown",
   "id": "4e92e27f-9c77-4d09-89f0-470289c7ebcf",
   "metadata": {},
   "source": [
    "# Objectives\n",
    "\n",
    "After completing this lab you will be able to:\n",
    "\n",
    " - Import a dataset from a CSV file to a Pandas dataframe\n",
    " - Develop some basic insights about the dataset\n"
   ]
  },
  {
   "cell_type": "markdown",
   "id": "d6ff46b4-9d95-4c23-8fde-debe41528d3f",
   "metadata": {},
   "source": [
    "# Setup\n"
   ]
  },
  {
   "cell_type": "markdown",
   "id": "93de71d6-9378-4dfd-bad6-006da601ae01",
   "metadata": {},
   "source": [
    "For this lab, we will be using the following libraries:\n",
    "\n",
    "* `skillsnetwork` for downloading the daataset\n",
    "\n",
    "*   [`pandas`](https://pandas.pydata.org/?utm_medium=Exinfluencer&utm_source=Exinfluencer&utm_content=000026UJ&utm_term=10006555&utm_id=NA-SkillsNetwork-Channel-SkillsNetworkCoursesIBMML0187ENSkillsNetwork31430127-2021-01-01) for managing the data.\n",
    "*   [`numpy`](https://numpy.org/?utm_medium=Exinfluencer&utm_source=Exinfluencer&utm_content=000026UJ&utm_term=10006555&utm_id=NA-SkillsNetwork-Channel-SkillsNetworkCoursesIBMML0187ENSkillsNetwork31430127-2021-01-01) for mathematical operations.\n"
   ]
  },
  {
   "cell_type": "markdown",
   "id": "d9165be1-69a2-4509-a8c7-2aa18d489cf9",
   "metadata": {},
   "source": [
    "### Importing Required Libraries\n"
   ]
  },
  {
   "cell_type": "code",
   "execution_count": 2,
   "id": "ed0e459b-ffa1-410b-a3ab-033ecf5058e0",
   "metadata": {},
   "outputs": [],
   "source": [
    "import pandas as pd\n",
    "import numpy as np"
   ]
  },
  {
   "cell_type": "markdown",
   "id": "fc45a909-3ae3-4dfe-892d-621828969fef",
   "metadata": {},
   "source": [
    "Simply use the URL directly in the `pandas.read_csv()` function. \n"
   ]
  },
  {
   "cell_type": "code",
   "execution_count": 3,
   "id": "466fc562-6ddc-41f5-888d-e4d9c3182f82",
   "metadata": {},
   "outputs": [],
   "source": [
    "filepath = \"https://cf-courses-data.s3.us.cloud-object-storage.appdomain.cloud/IBMDeveloperSkillsNetwork-DA0101EN-Coursera/laptop_pricing_dataset_base.csv\"\n",
    "df = pd.read_csv(filepath, header=None)"
   ]
  },
  {
   "cell_type": "markdown",
   "id": "b636e68d-4665-4ece-b72e-4d99028fb689",
   "metadata": {},
   "source": [
    "<h1> Task #1: </h1>\n",
    "<h3>Load the dataset to a pandas dataframe named 'df'</h3>\n",
    "Print the first 5 entries of the dataset to confirm loading.\n"
   ]
  },
  {
   "cell_type": "code",
   "execution_count": null,
   "id": "a065a4eb-1208-44ae-a86e-30dee1a35e55",
   "metadata": {},
   "outputs": [],
   "source": [
    "# Write your code below and press Shift+Enter to execute."
   ]
  },
  {
   "cell_type": "markdown",
   "id": "42e8d376-8bd1-4915-8667-a4eea8425927",
   "metadata": {},
   "source": [
    "<details><summary>Click here for solution</summary>\n",
    "\n",
    "```python\n",
    "df = pd.read_csv(file_name, header=None)\n",
    "print(df.head())\n",
    "```\n",
    "</details>\n"
   ]
  },
  {
   "cell_type": "markdown",
   "id": "a2d6de3c-1e0d-4d0c-bd20-a75b4d7bd06e",
   "metadata": {},
   "source": [
    "<h1> Task #2: </h1>\n",
    "<h3>Add headers to the dataframe</h3>\n",
    "The headers for the dataset, in sequence, are \"Manufacturer\", \"Category\", \"Screen\", \"GPU\", \"OS\", \"CPU_core\",\n",
    "\"Screen_Size_inch\", \"CPU_frequency\", \"RAM_GB\", \"Storage_GB_SSD\", \"Weight_kg\" and \"Price\".\n",
    "\n",
    "Confirm insertion by printing the first 10 rows of the dataset.\n"
   ]
  },
  {
   "cell_type": "code",
   "execution_count": null,
   "id": "67559db0-7a54-4606-8e89-66c3628ff7b2",
   "metadata": {},
   "outputs": [],
   "source": [
    "# Write your code below and press Shift+Enter to execute.\n"
   ]
  },
  {
   "cell_type": "markdown",
   "id": "7523216d-0b2e-4060-81cf-0c4ea54b0670",
   "metadata": {},
   "source": [
    "<details><summary>Click here for solution</summary>\n",
    "\n",
    "```python\n",
    "# create headers list\n",
    "headers = [\"Manufacturer\", \"Category\", \"Screen\", \"GPU\", \"OS\", \"CPU_core\", \"Screen_Size_inch\", \"CPU_frequency\", \"RAM_GB\", \"Storage_GB_SSD\", \"Weight_kg\", \"Price\"]\n",
    "df.columns = headers\n",
    "print(df.head(10))\n",
    "```\n",
    "</details>\n"
   ]
  },
  {
   "cell_type": "markdown",
   "id": "0a74085f-f403-4181-8887-7582d9301e86",
   "metadata": {},
   "source": [
    "<h1> Task #3: </h1>\n",
    "<h3>Replace '?' with 'NaN'</h3>\n",
    "Replace the '?' entries in the dataset with NaN value, recevied from the Numpy package.\n"
   ]
  },
  {
   "cell_type": "code",
   "execution_count": null,
   "id": "ba3dc196-e93f-4495-8d3f-038db028a4ea",
   "metadata": {},
   "outputs": [],
   "source": [
    "# Write your code below and press Shift+Enter to execute.\n"
   ]
  },
  {
   "cell_type": "markdown",
   "id": "d3384e8c-92c6-49e8-9831-56d74e1f68a0",
   "metadata": {},
   "source": [
    "<details><summary>Click here for solution</summary>\n",
    "\n",
    "```python\n",
    "df.replace('?',np.nan, inplace = True)\n",
    "```\n",
    "</details>\n"
   ]
  },
  {
   "cell_type": "markdown",
   "id": "b4053362-156d-41e8-9887-6b592996e27d",
   "metadata": {},
   "source": [
    "<h1> Task #4: </h1>\n",
    "<h3>Print the data types of the dataframe columns</h3>\n",
    "Make a note of the data types of the different columns of the dataset.\n"
   ]
  },
  {
   "cell_type": "code",
   "execution_count": null,
   "id": "0f8cff29-6e60-44e0-9b87-5faf5982cfa6",
   "metadata": {},
   "outputs": [],
   "source": [
    "# Write your code below and press Shift+Enter to execute.\n"
   ]
  },
  {
   "cell_type": "markdown",
   "id": "7fc66de6-2cb6-458f-bb6b-389b79928e83",
   "metadata": {},
   "source": [
    "<details><summary>Click here for solution</summary>\n",
    "\n",
    "```python\n",
    "print(df.dtypes)\n",
    "```\n",
    "</details>\n"
   ]
  },
  {
   "cell_type": "markdown",
   "id": "f90b1185-aefe-451b-bb50-9cb65aa67126",
   "metadata": {},
   "source": [
    "<h1> Task #5: </h1>\n",
    "<h3>Print the statistical description of the dataset, including that of 'object' data types.</h3>\n"
   ]
  },
  {
   "cell_type": "code",
   "execution_count": null,
   "id": "12da5b76-6a72-47b8-a886-0671c8c54cfa",
   "metadata": {},
   "outputs": [],
   "source": [
    "# Write your code below and press Shift+Enter to execute.\n"
   ]
  },
  {
   "cell_type": "markdown",
   "id": "4456338b-8b78-4291-8ca1-b8d1401c7a9e",
   "metadata": {},
   "source": [
    "<details><summary>Click here for solution</summary>\n",
    "\n",
    "```python\n",
    "print(df.describe(include='all'))\n",
    "```\n",
    "</details>\n"
   ]
  },
  {
   "cell_type": "markdown",
   "id": "de851bad-f724-4f52-b967-b68b29507e18",
   "metadata": {},
   "source": [
    "<h1> Task #6: </h1>\n",
    "<h3>Print the summary information of the dataset.</h3>\n"
   ]
  },
  {
   "cell_type": "code",
   "execution_count": null,
   "id": "1ceff21f-ba1b-4417-a7a6-215d034b6348",
   "metadata": {},
   "outputs": [],
   "source": [
    "# Write your code below and press Shift+Enter to execute.\n"
   ]
  },
  {
   "cell_type": "markdown",
   "id": "76512465-c809-4382-a533-64f81f54d10c",
   "metadata": {},
   "source": [
    "<details><summary>Click here for solution</summary>\n",
    "\n",
    "```python\n",
    "print(df.info())\n",
    "```\n",
    "</details>\n"
   ]
  },
  {
   "cell_type": "markdown",
   "id": "c2192c93-4441-4d3b-a441-358355006b27",
   "metadata": {},
   "source": [
    "---\n"
   ]
  },
  {
   "cell_type": "markdown",
   "id": "9ecdd5ad-f7e7-4694-afdc-b48d471476fa",
   "metadata": {},
   "source": [
    "# Congratulations! You have completed the lab\n"
   ]
  },
  {
   "cell_type": "markdown",
   "id": "6044c5b9-d4a0-4c5b-9f4f-6f813e52c1a6",
   "metadata": {},
   "source": [
    "<!--## Change Log\n"
   ]
  },
  {
   "cell_type": "markdown",
   "id": "dd88015f-496b-44ba-b934-6061da537060",
   "metadata": {},
   "source": [
    "<!--|Date (YYYY-MM-DD)|Version|Changed By|Change Description|\n",
    "|-|-|-|-|\n",
    "|2023-09-15|0.1|Abhishek Gagneja|Initial Version Created|\n",
    "|2023-09-18|0.2|Vicky Kuo|Reviewed and Revised|--!>\n"
   ]
  }
 ],
 "metadata": {
  "kernelspec": {
   "display_name": "Python 3",
   "language": "python",
   "name": "python3"
  },
  "language_info": {
   "codemirror_mode": {
    "name": "ipython",
    "version": 3
   },
   "file_extension": ".py",
   "mimetype": "text/x-python",
   "name": "python",
   "nbconvert_exporter": "python",
   "pygments_lexer": "ipython3",
   "version": "3.13.9"
  },
  "prev_pub_hash": "d2fd5497f12749dabe02ecf8b07e42d190fc00ebc879bab96401827f70899996"
 },
 "nbformat": 4,
 "nbformat_minor": 4
}
