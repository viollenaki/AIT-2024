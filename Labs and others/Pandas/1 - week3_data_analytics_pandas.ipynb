{
 "cells": [
  {
   "cell_type": "markdown",
   "id": "318b487f-c61a-46cb-9557-284f7d45d886",
   "metadata": {},
   "source": [
    "# Week 3 Data Analytics\n",
    "# Pandas DataFrames\n",
    "\n",
    "# Exploration and manipulation"
   ]
  },
  {
   "cell_type": "code",
   "execution_count": 1,
   "id": "282c9d34-473a-445e-a505-f535cbe93647",
   "metadata": {},
   "outputs": [],
   "source": [
    "# import libraries"
   ]
  },
  {
   "cell_type": "code",
   "execution_count": 1,
   "id": "67454ece-f81d-4b4b-b948-2bc264a8eb50",
   "metadata": {},
   "outputs": [],
   "source": [
    "import pandas as pd\n",
    "import numpy as np\n"
   ]
  },
  {
   "cell_type": "markdown",
   "id": "29138b97-e033-43b1-8635-9f0e667e8bc8",
   "metadata": {},
   "source": [
    "# Create a pandas series"
   ]
  },
  {
   "cell_type": "code",
   "execution_count": 2,
   "id": "ac5f3974-b32f-43f2-b569-29334725f86d",
   "metadata": {},
   "outputs": [],
   "source": [
    "pandas_series_data = pd.Series([1,2,3,4,np.nan,5,6])\n"
   ]
  },
  {
   "cell_type": "code",
   "execution_count": 3,
   "id": "5c824176-9407-4df9-b032-690ba9ddc2e8",
   "metadata": {},
   "outputs": [
    {
     "name": "stdout",
     "output_type": "stream",
     "text": [
      "0    1.0\n",
      "1    2.0\n",
      "2    3.0\n",
      "3    4.0\n",
      "4    NaN\n",
      "5    5.0\n",
      "6    6.0\n",
      "dtype: float64\n"
     ]
    }
   ],
   "source": [
    "print(pandas_series_data)"
   ]
  },
  {
   "cell_type": "markdown",
   "id": "40c216b1-75ba-4f1a-9942-4bad39586a3a",
   "metadata": {},
   "source": [
    "# Create a pandas DataFrame"
   ]
  },
  {
   "cell_type": "code",
   "execution_count": 4,
   "id": "0dec6ec0-31ab-4895-b789-0078c0253c96",
   "metadata": {},
   "outputs": [],
   "source": [
    "data = {\n",
    "    'Product': ['Laptop', 'Mouse', 'Keyboard'],\n",
    "    'Price': [1200, 25, 75],\n",
    "    'InStock': [True, True, False]\n",
    "}\n",
    "pandas_df_data = pd.DataFrame(data)"
   ]
  },
  {
   "cell_type": "code",
   "execution_count": 5,
   "id": "f6c43b3c-715b-4f1e-82f6-b915073966b3",
   "metadata": {},
   "outputs": [
    {
     "data": {
      "text/plain": [
       "{'Product': ['Laptop', 'Mouse', 'Keyboard'],\n",
       " 'Price': [1200, 25, 75],\n",
       " 'InStock': [True, True, False]}"
      ]
     },
     "execution_count": 5,
     "metadata": {},
     "output_type": "execute_result"
    }
   ],
   "source": [
    "data"
   ]
  },
  {
   "cell_type": "code",
   "execution_count": 6,
   "id": "c844d250-39e6-4ce1-9a2e-72ad08fd6b93",
   "metadata": {},
   "outputs": [
    {
     "name": "stdout",
     "output_type": "stream",
     "text": [
      "    Product  Price  InStock\n",
      "0    Laptop   1200     True\n",
      "1     Mouse     25     True\n",
      "2  Keyboard     75    False\n"
     ]
    }
   ],
   "source": [
    "print(pandas_df_data)"
   ]
  },
  {
   "cell_type": "code",
   "execution_count": 7,
   "id": "2ffbfe8b-4471-4ff3-9f90-657673e3e80f",
   "metadata": {},
   "outputs": [
    {
     "data": {
      "text/html": [
       "<div>\n",
       "<style scoped>\n",
       "    .dataframe tbody tr th:only-of-type {\n",
       "        vertical-align: middle;\n",
       "    }\n",
       "\n",
       "    .dataframe tbody tr th {\n",
       "        vertical-align: top;\n",
       "    }\n",
       "\n",
       "    .dataframe thead th {\n",
       "        text-align: right;\n",
       "    }\n",
       "</style>\n",
       "<table border=\"1\" class=\"dataframe\">\n",
       "  <thead>\n",
       "    <tr style=\"text-align: right;\">\n",
       "      <th></th>\n",
       "      <th>Product</th>\n",
       "      <th>Price</th>\n",
       "      <th>InStock</th>\n",
       "    </tr>\n",
       "  </thead>\n",
       "  <tbody>\n",
       "    <tr>\n",
       "      <th>0</th>\n",
       "      <td>Laptop</td>\n",
       "      <td>1200</td>\n",
       "      <td>True</td>\n",
       "    </tr>\n",
       "    <tr>\n",
       "      <th>1</th>\n",
       "      <td>Mouse</td>\n",
       "      <td>25</td>\n",
       "      <td>True</td>\n",
       "    </tr>\n",
       "    <tr>\n",
       "      <th>2</th>\n",
       "      <td>Keyboard</td>\n",
       "      <td>75</td>\n",
       "      <td>False</td>\n",
       "    </tr>\n",
       "  </tbody>\n",
       "</table>\n",
       "</div>"
      ],
      "text/plain": [
       "    Product  Price  InStock\n",
       "0    Laptop   1200     True\n",
       "1     Mouse     25     True\n",
       "2  Keyboard     75    False"
      ]
     },
     "execution_count": 7,
     "metadata": {},
     "output_type": "execute_result"
    }
   ],
   "source": [
    "pandas_df_data"
   ]
  },
  {
   "cell_type": "markdown",
   "id": "268e3cc5-eaab-4a7c-b4b3-c0ea22e38b69",
   "metadata": {},
   "source": [
    "# Importing Data "
   ]
  },
  {
   "cell_type": "code",
   "execution_count": 8,
   "id": "643878f0-9656-45c3-8b85-35dc31da5454",
   "metadata": {},
   "outputs": [],
   "source": [
    "sales_data_df = pd.read_csv('sales_data.csv')"
   ]
  },
  {
   "cell_type": "code",
   "execution_count": 9,
   "id": "4d2659ac-a9ae-4fc3-aecb-9c7287ad8bc6",
   "metadata": {},
   "outputs": [
    {
     "data": {
      "text/html": [
       "<div>\n",
       "<style scoped>\n",
       "    .dataframe tbody tr th:only-of-type {\n",
       "        vertical-align: middle;\n",
       "    }\n",
       "\n",
       "    .dataframe tbody tr th {\n",
       "        vertical-align: top;\n",
       "    }\n",
       "\n",
       "    .dataframe thead th {\n",
       "        text-align: right;\n",
       "    }\n",
       "</style>\n",
       "<table border=\"1\" class=\"dataframe\">\n",
       "  <thead>\n",
       "    <tr style=\"text-align: right;\">\n",
       "      <th></th>\n",
       "      <th>Category</th>\n",
       "      <th>Sub-Category</th>\n",
       "      <th>Sales</th>\n",
       "      <th>Quantity</th>\n",
       "      <th>Profit</th>\n",
       "    </tr>\n",
       "  </thead>\n",
       "  <tbody>\n",
       "    <tr>\n",
       "      <th>0</th>\n",
       "      <td>Technology</td>\n",
       "      <td>Printers</td>\n",
       "      <td>1199.19</td>\n",
       "      <td>1</td>\n",
       "      <td>-130.02</td>\n",
       "    </tr>\n",
       "    <tr>\n",
       "      <th>1</th>\n",
       "      <td>Technology</td>\n",
       "      <td>Accessories</td>\n",
       "      <td>604.32</td>\n",
       "      <td>1</td>\n",
       "      <td>-77.02</td>\n",
       "    </tr>\n",
       "    <tr>\n",
       "      <th>2</th>\n",
       "      <td>Technology</td>\n",
       "      <td>Laptops</td>\n",
       "      <td>695.77</td>\n",
       "      <td>6</td>\n",
       "      <td>142.39</td>\n",
       "    </tr>\n",
       "    <tr>\n",
       "      <th>3</th>\n",
       "      <td>Technology</td>\n",
       "      <td>Phones</td>\n",
       "      <td>1630.08</td>\n",
       "      <td>1</td>\n",
       "      <td>161.28</td>\n",
       "    </tr>\n",
       "    <tr>\n",
       "      <th>4</th>\n",
       "      <td>Office Supplies</td>\n",
       "      <td>Paper</td>\n",
       "      <td>1172.57</td>\n",
       "      <td>6</td>\n",
       "      <td>361.32</td>\n",
       "    </tr>\n",
       "  </tbody>\n",
       "</table>\n",
       "</div>"
      ],
      "text/plain": [
       "          Category Sub-Category    Sales  Quantity  Profit\n",
       "0       Technology     Printers  1199.19         1 -130.02\n",
       "1       Technology  Accessories   604.32         1  -77.02\n",
       "2       Technology      Laptops   695.77         6  142.39\n",
       "3       Technology       Phones  1630.08         1  161.28\n",
       "4  Office Supplies        Paper  1172.57         6  361.32"
      ]
     },
     "execution_count": 9,
     "metadata": {},
     "output_type": "execute_result"
    }
   ],
   "source": [
    "# print first 5 rows\n",
    "sales_data_df.head()"
   ]
  },
  {
   "cell_type": "code",
   "execution_count": 15,
   "id": "7182b02b-9f98-4534-987a-696d648ccfef",
   "metadata": {},
   "outputs": [
    {
     "data": {
      "text/html": [
       "<div>\n",
       "<style scoped>\n",
       "    .dataframe tbody tr th:only-of-type {\n",
       "        vertical-align: middle;\n",
       "    }\n",
       "\n",
       "    .dataframe tbody tr th {\n",
       "        vertical-align: top;\n",
       "    }\n",
       "\n",
       "    .dataframe thead th {\n",
       "        text-align: right;\n",
       "    }\n",
       "</style>\n",
       "<table border=\"1\" class=\"dataframe\">\n",
       "  <thead>\n",
       "    <tr style=\"text-align: right;\">\n",
       "      <th></th>\n",
       "      <th>Category</th>\n",
       "      <th>Sub-Category</th>\n",
       "      <th>Sales</th>\n",
       "      <th>Quantity</th>\n",
       "      <th>Profit</th>\n",
       "    </tr>\n",
       "  </thead>\n",
       "  <tbody>\n",
       "    <tr>\n",
       "      <th>90</th>\n",
       "      <td>Furniture</td>\n",
       "      <td>Chairs</td>\n",
       "      <td>406.17</td>\n",
       "      <td>3</td>\n",
       "      <td>37.62</td>\n",
       "    </tr>\n",
       "    <tr>\n",
       "      <th>91</th>\n",
       "      <td>Office Supplies</td>\n",
       "      <td>Paper</td>\n",
       "      <td>655.16</td>\n",
       "      <td>1</td>\n",
       "      <td>-83.75</td>\n",
       "    </tr>\n",
       "    <tr>\n",
       "      <th>92</th>\n",
       "      <td>Furniture</td>\n",
       "      <td>Chairs</td>\n",
       "      <td>1598.86</td>\n",
       "      <td>2</td>\n",
       "      <td>301.72</td>\n",
       "    </tr>\n",
       "    <tr>\n",
       "      <th>93</th>\n",
       "      <td>Office Supplies</td>\n",
       "      <td>Art</td>\n",
       "      <td>718.07</td>\n",
       "      <td>10</td>\n",
       "      <td>38.94</td>\n",
       "    </tr>\n",
       "    <tr>\n",
       "      <th>94</th>\n",
       "      <td>Office Supplies</td>\n",
       "      <td>Paper</td>\n",
       "      <td>1114.45</td>\n",
       "      <td>4</td>\n",
       "      <td>6.99</td>\n",
       "    </tr>\n",
       "    <tr>\n",
       "      <th>95</th>\n",
       "      <td>Technology</td>\n",
       "      <td>Phones</td>\n",
       "      <td>677.82</td>\n",
       "      <td>6</td>\n",
       "      <td>-109.12</td>\n",
       "    </tr>\n",
       "    <tr>\n",
       "      <th>96</th>\n",
       "      <td>Furniture</td>\n",
       "      <td>Furnishings</td>\n",
       "      <td>315.92</td>\n",
       "      <td>8</td>\n",
       "      <td>-52.26</td>\n",
       "    </tr>\n",
       "    <tr>\n",
       "      <th>97</th>\n",
       "      <td>Technology</td>\n",
       "      <td>Accessories</td>\n",
       "      <td>67.85</td>\n",
       "      <td>8</td>\n",
       "      <td>-11.75</td>\n",
       "    </tr>\n",
       "    <tr>\n",
       "      <th>98</th>\n",
       "      <td>Furniture</td>\n",
       "      <td>Bookcases</td>\n",
       "      <td>532.62</td>\n",
       "      <td>7</td>\n",
       "      <td>195.54</td>\n",
       "    </tr>\n",
       "    <tr>\n",
       "      <th>99</th>\n",
       "      <td>Furniture</td>\n",
       "      <td>Bookcases</td>\n",
       "      <td>1894.15</td>\n",
       "      <td>3</td>\n",
       "      <td>-231.09</td>\n",
       "    </tr>\n",
       "  </tbody>\n",
       "</table>\n",
       "</div>"
      ],
      "text/plain": [
       "           Category Sub-Category    Sales  Quantity  Profit\n",
       "90        Furniture       Chairs   406.17         3   37.62\n",
       "91  Office Supplies        Paper   655.16         1  -83.75\n",
       "92        Furniture       Chairs  1598.86         2  301.72\n",
       "93  Office Supplies          Art   718.07        10   38.94\n",
       "94  Office Supplies        Paper  1114.45         4    6.99\n",
       "95       Technology       Phones   677.82         6 -109.12\n",
       "96        Furniture  Furnishings   315.92         8  -52.26\n",
       "97       Technology  Accessories    67.85         8  -11.75\n",
       "98        Furniture    Bookcases   532.62         7  195.54\n",
       "99        Furniture    Bookcases  1894.15         3 -231.09"
      ]
     },
     "execution_count": 15,
     "metadata": {},
     "output_type": "execute_result"
    }
   ],
   "source": [
    "# print first 10 rows\n",
    "sales_data_df.head(10)\n",
    "sales_data_df.tail(10)"
   ]
  },
  {
   "cell_type": "markdown",
   "id": "37f7fb37-5206-49b3-afbd-dce19a2b2799",
   "metadata": {},
   "source": [
    "# Exploring Methods"
   ]
  },
  {
   "cell_type": "code",
   "execution_count": 16,
   "id": "46421510-2dfe-4eaa-81b7-ccc46c4004e0",
   "metadata": {},
   "outputs": [
    {
     "name": "stdout",
     "output_type": "stream",
     "text": [
      "<class 'pandas.core.frame.DataFrame'>\n",
      "RangeIndex: 100 entries, 0 to 99\n",
      "Data columns (total 5 columns):\n",
      " #   Column        Non-Null Count  Dtype  \n",
      "---  ------        --------------  -----  \n",
      " 0   Category      100 non-null    object \n",
      " 1   Sub-Category  100 non-null    object \n",
      " 2   Sales         100 non-null    float64\n",
      " 3   Quantity      100 non-null    int64  \n",
      " 4   Profit        100 non-null    float64\n",
      "dtypes: float64(2), int64(1), object(2)\n",
      "memory usage: 4.0+ KB\n"
     ]
    }
   ],
   "source": [
    "# summary of the dataset\n",
    "sales_data_df.info()"
   ]
  },
  {
   "cell_type": "code",
   "execution_count": 17,
   "id": "c06cbdb8-6ec3-4ba4-87f3-453c3b9e6560",
   "metadata": {},
   "outputs": [
    {
     "data": {
      "text/html": [
       "<div>\n",
       "<style scoped>\n",
       "    .dataframe tbody tr th:only-of-type {\n",
       "        vertical-align: middle;\n",
       "    }\n",
       "\n",
       "    .dataframe tbody tr th {\n",
       "        vertical-align: top;\n",
       "    }\n",
       "\n",
       "    .dataframe thead th {\n",
       "        text-align: right;\n",
       "    }\n",
       "</style>\n",
       "<table border=\"1\" class=\"dataframe\">\n",
       "  <thead>\n",
       "    <tr style=\"text-align: right;\">\n",
       "      <th></th>\n",
       "      <th>Sales</th>\n",
       "      <th>Quantity</th>\n",
       "      <th>Profit</th>\n",
       "    </tr>\n",
       "  </thead>\n",
       "  <tbody>\n",
       "    <tr>\n",
       "      <th>count</th>\n",
       "      <td>100.00000</td>\n",
       "      <td>100.000000</td>\n",
       "      <td>100.000000</td>\n",
       "    </tr>\n",
       "    <tr>\n",
       "      <th>mean</th>\n",
       "      <td>1005.38000</td>\n",
       "      <td>5.040000</td>\n",
       "      <td>71.281200</td>\n",
       "    </tr>\n",
       "    <tr>\n",
       "      <th>std</th>\n",
       "      <td>563.24066</td>\n",
       "      <td>2.912599</td>\n",
       "      <td>206.729817</td>\n",
       "    </tr>\n",
       "    <tr>\n",
       "      <th>min</th>\n",
       "      <td>67.85000</td>\n",
       "      <td>1.000000</td>\n",
       "      <td>-343.720000</td>\n",
       "    </tr>\n",
       "    <tr>\n",
       "      <th>25%</th>\n",
       "      <td>578.51750</td>\n",
       "      <td>2.000000</td>\n",
       "      <td>-66.170000</td>\n",
       "    </tr>\n",
       "    <tr>\n",
       "      <th>50%</th>\n",
       "      <td>922.28000</td>\n",
       "      <td>5.000000</td>\n",
       "      <td>21.590000</td>\n",
       "    </tr>\n",
       "    <tr>\n",
       "      <th>75%</th>\n",
       "      <td>1532.73000</td>\n",
       "      <td>7.000000</td>\n",
       "      <td>172.580000</td>\n",
       "    </tr>\n",
       "    <tr>\n",
       "      <th>max</th>\n",
       "      <td>1985.44000</td>\n",
       "      <td>10.000000</td>\n",
       "      <td>686.250000</td>\n",
       "    </tr>\n",
       "  </tbody>\n",
       "</table>\n",
       "</div>"
      ],
      "text/plain": [
       "            Sales    Quantity      Profit\n",
       "count   100.00000  100.000000  100.000000\n",
       "mean   1005.38000    5.040000   71.281200\n",
       "std     563.24066    2.912599  206.729817\n",
       "min      67.85000    1.000000 -343.720000\n",
       "25%     578.51750    2.000000  -66.170000\n",
       "50%     922.28000    5.000000   21.590000\n",
       "75%    1532.73000    7.000000  172.580000\n",
       "max    1985.44000   10.000000  686.250000"
      ]
     },
     "execution_count": 17,
     "metadata": {},
     "output_type": "execute_result"
    }
   ],
   "source": [
    "# descriptive statistics\n",
    "sales_data_df.describe()"
   ]
  },
  {
   "cell_type": "markdown",
   "id": "a36101e8-12c4-4baf-b95a-a3a9eaadffc6",
   "metadata": {},
   "source": [
    "# Selecting and filtering data"
   ]
  },
  {
   "cell_type": "code",
   "execution_count": 18,
   "id": "afe5198b-3e08-4cf1-98e5-82fbc740a87b",
   "metadata": {},
   "outputs": [
    {
     "data": {
      "text/plain": [
       "0    1199.19\n",
       "1     604.32\n",
       "2     695.77\n",
       "3    1630.08\n",
       "4    1172.57\n",
       "Name: Sales, dtype: float64"
      ]
     },
     "execution_count": 18,
     "metadata": {},
     "output_type": "execute_result"
    }
   ],
   "source": [
    "# label based filter\n",
    "sales_data_df.loc[0:4, 'Sales']"
   ]
  },
  {
   "cell_type": "code",
   "execution_count": 19,
   "id": "67d69c44-e105-46d8-b4b4-a6b0ecf984be",
   "metadata": {},
   "outputs": [
    {
     "data": {
      "text/html": [
       "<div>\n",
       "<style scoped>\n",
       "    .dataframe tbody tr th:only-of-type {\n",
       "        vertical-align: middle;\n",
       "    }\n",
       "\n",
       "    .dataframe tbody tr th {\n",
       "        vertical-align: top;\n",
       "    }\n",
       "\n",
       "    .dataframe thead th {\n",
       "        text-align: right;\n",
       "    }\n",
       "</style>\n",
       "<table border=\"1\" class=\"dataframe\">\n",
       "  <thead>\n",
       "    <tr style=\"text-align: right;\">\n",
       "      <th></th>\n",
       "      <th>Category</th>\n",
       "      <th>Sub-Category</th>\n",
       "      <th>Sales</th>\n",
       "      <th>Quantity</th>\n",
       "      <th>Profit</th>\n",
       "    </tr>\n",
       "  </thead>\n",
       "  <tbody>\n",
       "    <tr>\n",
       "      <th>0</th>\n",
       "      <td>Technology</td>\n",
       "      <td>Printers</td>\n",
       "      <td>1199.19</td>\n",
       "      <td>1</td>\n",
       "      <td>-130.02</td>\n",
       "    </tr>\n",
       "    <tr>\n",
       "      <th>1</th>\n",
       "      <td>Technology</td>\n",
       "      <td>Accessories</td>\n",
       "      <td>604.32</td>\n",
       "      <td>1</td>\n",
       "      <td>-77.02</td>\n",
       "    </tr>\n",
       "  </tbody>\n",
       "</table>\n",
       "</div>"
      ],
      "text/plain": [
       "     Category Sub-Category    Sales  Quantity  Profit\n",
       "0  Technology     Printers  1199.19         1 -130.02\n",
       "1  Technology  Accessories   604.32         1  -77.02"
      ]
     },
     "execution_count": 19,
     "metadata": {},
     "output_type": "execute_result"
    }
   ],
   "source": [
    "sales_data_df.head(2)"
   ]
  },
  {
   "cell_type": "code",
   "execution_count": 20,
   "id": "b0fd4243-d165-467f-8c50-26542cdf433d",
   "metadata": {},
   "outputs": [
    {
     "data": {
      "text/plain": [
       "0    1199.19\n",
       "1     604.32\n",
       "2     695.77\n",
       "3    1630.08\n",
       "4    1172.57\n",
       "Name: Sales, dtype: float64"
      ]
     },
     "execution_count": 20,
     "metadata": {},
     "output_type": "execute_result"
    }
   ],
   "source": [
    "# position based filter\n",
    "sales_data_df.iloc[0:5, 2]"
   ]
  },
  {
   "cell_type": "code",
   "execution_count": 21,
   "id": "8392c961-de21-4e16-ba3f-395c4fd147b8",
   "metadata": {},
   "outputs": [
    {
     "data": {
      "text/html": [
       "<div>\n",
       "<style scoped>\n",
       "    .dataframe tbody tr th:only-of-type {\n",
       "        vertical-align: middle;\n",
       "    }\n",
       "\n",
       "    .dataframe tbody tr th {\n",
       "        vertical-align: top;\n",
       "    }\n",
       "\n",
       "    .dataframe thead th {\n",
       "        text-align: right;\n",
       "    }\n",
       "</style>\n",
       "<table border=\"1\" class=\"dataframe\">\n",
       "  <thead>\n",
       "    <tr style=\"text-align: right;\">\n",
       "      <th></th>\n",
       "      <th>Category</th>\n",
       "      <th>Sub-Category</th>\n",
       "      <th>Sales</th>\n",
       "      <th>Quantity</th>\n",
       "      <th>Profit</th>\n",
       "    </tr>\n",
       "  </thead>\n",
       "  <tbody>\n",
       "    <tr>\n",
       "      <th>0</th>\n",
       "      <td>Technology</td>\n",
       "      <td>Printers</td>\n",
       "      <td>1199.19</td>\n",
       "      <td>1</td>\n",
       "      <td>-130.02</td>\n",
       "    </tr>\n",
       "    <tr>\n",
       "      <th>1</th>\n",
       "      <td>Technology</td>\n",
       "      <td>Accessories</td>\n",
       "      <td>604.32</td>\n",
       "      <td>1</td>\n",
       "      <td>-77.02</td>\n",
       "    </tr>\n",
       "    <tr>\n",
       "      <th>2</th>\n",
       "      <td>Technology</td>\n",
       "      <td>Laptops</td>\n",
       "      <td>695.77</td>\n",
       "      <td>6</td>\n",
       "      <td>142.39</td>\n",
       "    </tr>\n",
       "    <tr>\n",
       "      <th>3</th>\n",
       "      <td>Technology</td>\n",
       "      <td>Phones</td>\n",
       "      <td>1630.08</td>\n",
       "      <td>1</td>\n",
       "      <td>161.28</td>\n",
       "    </tr>\n",
       "    <tr>\n",
       "      <th>4</th>\n",
       "      <td>Office Supplies</td>\n",
       "      <td>Paper</td>\n",
       "      <td>1172.57</td>\n",
       "      <td>6</td>\n",
       "      <td>361.32</td>\n",
       "    </tr>\n",
       "  </tbody>\n",
       "</table>\n",
       "</div>"
      ],
      "text/plain": [
       "          Category Sub-Category    Sales  Quantity  Profit\n",
       "0       Technology     Printers  1199.19         1 -130.02\n",
       "1       Technology  Accessories   604.32         1  -77.02\n",
       "2       Technology      Laptops   695.77         6  142.39\n",
       "3       Technology       Phones  1630.08         1  161.28\n",
       "4  Office Supplies        Paper  1172.57         6  361.32"
      ]
     },
     "execution_count": 21,
     "metadata": {},
     "output_type": "execute_result"
    }
   ],
   "source": [
    "sales_data_df.head()"
   ]
  },
  {
   "cell_type": "markdown",
   "id": "b0a182d0-1ddf-4d33-9ce5-679450a562fc",
   "metadata": {},
   "source": [
    "# Conditional filtering \n"
   ]
  },
  {
   "cell_type": "code",
   "execution_count": 27,
   "id": "140cc045-11c6-41b0-8ddb-2019fb4814d7",
   "metadata": {},
   "outputs": [
    {
     "name": "stdout",
     "output_type": "stream",
     "text": [
      "          Category Sub-Category    Sales  Quantity  Profit\n",
      "0       Technology     Printers  1199.19         1 -130.02\n",
      "1       Technology  Accessories   604.32         1  -77.02\n",
      "2       Technology      Laptops   695.77         6  142.39\n",
      "3       Technology       Phones  1630.08         1  161.28\n",
      "4  Office Supplies        Paper  1172.57         6  361.32\n",
      "======================================================================\n",
      "           Category Sub-Category    Sales  Quantity  Profit\n",
      "2        Technology      Laptops   695.77         6  142.39\n",
      "4   Office Supplies        Paper  1172.57         6  361.32\n",
      "8   Office Supplies        Paper  1679.26         7   -3.79\n",
      "10        Furniture    Bookcases  1920.16         9  494.82\n",
      "12       Technology      Laptops   362.94        10  -68.63\n",
      "======================================================================\n",
      "0     1\n",
      "1     1\n",
      "2     6\n",
      "3     1\n",
      "4     6\n",
      "     ..\n",
      "95    6\n",
      "96    8\n",
      "97    8\n",
      "98    7\n",
      "99    3\n",
      "Name: Quantity, Length: 100, dtype: int64\n",
      "======================================================================\n",
      "0     1199.19\n",
      "1      604.32\n",
      "2      695.77\n",
      "3     1630.08\n",
      "4     1172.57\n",
      "       ...   \n",
      "95     677.82\n",
      "96     315.92\n",
      "97      67.85\n",
      "98     532.62\n",
      "99    1894.15\n",
      "Name: Sales, Length: 100, dtype: float64\n"
     ]
    }
   ],
   "source": [
    "# filter raws where Sales are greater than 500?\n",
    "high_sales = sales_data_df[sales_data_df['Sales'] > 500]\n",
    "quantity_higher_5 = sales_data_df[sales_data_df['Quantity'] > 5]\n",
    "print(high_sales.head())\n",
    "print('======='*10)\n",
    "print(quantity_higher_5.head())\n",
    "print('======='*10)\n",
    "print(sales_data_df['Quantity'])\n",
    "print('======='*10)\n",
    "print(sales_data_df['Sales'])\n"
   ]
  },
  {
   "cell_type": "code",
   "execution_count": 25,
   "id": "24016d76-768b-41f8-a113-9d76ce18dbb0",
   "metadata": {},
   "outputs": [
    {
     "data": {
      "text/html": [
       "<div>\n",
       "<style scoped>\n",
       "    .dataframe tbody tr th:only-of-type {\n",
       "        vertical-align: middle;\n",
       "    }\n",
       "\n",
       "    .dataframe tbody tr th {\n",
       "        vertical-align: top;\n",
       "    }\n",
       "\n",
       "    .dataframe thead th {\n",
       "        text-align: right;\n",
       "    }\n",
       "</style>\n",
       "<table border=\"1\" class=\"dataframe\">\n",
       "  <thead>\n",
       "    <tr style=\"text-align: right;\">\n",
       "      <th></th>\n",
       "      <th>Category</th>\n",
       "      <th>Sub-Category</th>\n",
       "      <th>Sales</th>\n",
       "      <th>Quantity</th>\n",
       "      <th>Profit</th>\n",
       "    </tr>\n",
       "  </thead>\n",
       "  <tbody>\n",
       "    <tr>\n",
       "      <th>3</th>\n",
       "      <td>Technology</td>\n",
       "      <td>Computers</td>\n",
       "      <td>910.30</td>\n",
       "      <td>4</td>\n",
       "      <td>21.95</td>\n",
       "    </tr>\n",
       "    <tr>\n",
       "      <th>4</th>\n",
       "      <td>Furniture</td>\n",
       "      <td>Accessories</td>\n",
       "      <td>782.41</td>\n",
       "      <td>8</td>\n",
       "      <td>246.80</td>\n",
       "    </tr>\n",
       "    <tr>\n",
       "      <th>10</th>\n",
       "      <td>Technology</td>\n",
       "      <td>Bookcases</td>\n",
       "      <td>923.40</td>\n",
       "      <td>8</td>\n",
       "      <td>184.06</td>\n",
       "    </tr>\n",
       "    <tr>\n",
       "      <th>18</th>\n",
       "      <td>Office Supplies</td>\n",
       "      <td>Bookcases</td>\n",
       "      <td>789.26</td>\n",
       "      <td>3</td>\n",
       "      <td>242.18</td>\n",
       "    </tr>\n",
       "    <tr>\n",
       "      <th>19</th>\n",
       "      <td>Office Supplies</td>\n",
       "      <td>Paper</td>\n",
       "      <td>975.09</td>\n",
       "      <td>9</td>\n",
       "      <td>79.70</td>\n",
       "    </tr>\n",
       "  </tbody>\n",
       "</table>\n",
       "</div>"
      ],
      "text/plain": [
       "           Category Sub-Category   Sales  Quantity  Profit\n",
       "3        Technology    Computers  910.30         4   21.95\n",
       "4         Furniture  Accessories  782.41         8  246.80\n",
       "10       Technology    Bookcases  923.40         8  184.06\n",
       "18  Office Supplies    Bookcases  789.26         3  242.18\n",
       "19  Office Supplies        Paper  975.09         9   79.70"
      ]
     },
     "execution_count": 25,
     "metadata": {},
     "output_type": "execute_result"
    }
   ],
   "source": [
    "# filter rows with multiple conditions\n",
    "profitable_high_sales = high_sales[\n",
    "    (high_sales['Sales'] > 500) & (high_sales['Profit'] > 0)\n",
    "]\n",
    "profitable_high_sales.head()"
   ]
  },
  {
   "cell_type": "markdown",
   "id": "1e9f8846-f0f2-4243-a56c-198a90e02d40",
   "metadata": {},
   "source": [
    "# Sorting DataFrames"
   ]
  },
  {
   "cell_type": "code",
   "execution_count": 28,
   "id": "d152baf6-3187-43fa-9287-4ec06071069c",
   "metadata": {},
   "outputs": [
    {
     "data": {
      "text/html": [
       "<div>\n",
       "<style scoped>\n",
       "    .dataframe tbody tr th:only-of-type {\n",
       "        vertical-align: middle;\n",
       "    }\n",
       "\n",
       "    .dataframe tbody tr th {\n",
       "        vertical-align: top;\n",
       "    }\n",
       "\n",
       "    .dataframe thead th {\n",
       "        text-align: right;\n",
       "    }\n",
       "</style>\n",
       "<table border=\"1\" class=\"dataframe\">\n",
       "  <thead>\n",
       "    <tr style=\"text-align: right;\">\n",
       "      <th></th>\n",
       "      <th>Category</th>\n",
       "      <th>Sub-Category</th>\n",
       "      <th>Sales</th>\n",
       "      <th>Quantity</th>\n",
       "      <th>Profit</th>\n",
       "    </tr>\n",
       "  </thead>\n",
       "  <tbody>\n",
       "    <tr>\n",
       "      <th>52</th>\n",
       "      <td>Technology</td>\n",
       "      <td>Phones</td>\n",
       "      <td>1985.44</td>\n",
       "      <td>3</td>\n",
       "      <td>136.09</td>\n",
       "    </tr>\n",
       "    <tr>\n",
       "      <th>22</th>\n",
       "      <td>Technology</td>\n",
       "      <td>Printers</td>\n",
       "      <td>1978.20</td>\n",
       "      <td>1</td>\n",
       "      <td>-233.97</td>\n",
       "    </tr>\n",
       "    <tr>\n",
       "      <th>34</th>\n",
       "      <td>Office Supplies</td>\n",
       "      <td>Storage</td>\n",
       "      <td>1952.91</td>\n",
       "      <td>10</td>\n",
       "      <td>289.07</td>\n",
       "    </tr>\n",
       "    <tr>\n",
       "      <th>10</th>\n",
       "      <td>Furniture</td>\n",
       "      <td>Bookcases</td>\n",
       "      <td>1920.16</td>\n",
       "      <td>9</td>\n",
       "      <td>494.82</td>\n",
       "    </tr>\n",
       "    <tr>\n",
       "      <th>61</th>\n",
       "      <td>Technology</td>\n",
       "      <td>Phones</td>\n",
       "      <td>1917.25</td>\n",
       "      <td>5</td>\n",
       "      <td>140.88</td>\n",
       "    </tr>\n",
       "  </tbody>\n",
       "</table>\n",
       "</div>"
      ],
      "text/plain": [
       "           Category Sub-Category    Sales  Quantity  Profit\n",
       "52       Technology       Phones  1985.44         3  136.09\n",
       "22       Technology     Printers  1978.20         1 -233.97\n",
       "34  Office Supplies      Storage  1952.91        10  289.07\n",
       "10        Furniture    Bookcases  1920.16         9  494.82\n",
       "61       Technology       Phones  1917.25         5  140.88"
      ]
     },
     "execution_count": 28,
     "metadata": {},
     "output_type": "execute_result"
    }
   ],
   "source": [
    "# sort by a single column\n",
    "df_sorted = high_sales.sort_values(by='Sales', ascending=False)\n",
    "df_sorted.head()"
   ]
  },
  {
   "cell_type": "code",
   "execution_count": 33,
   "id": "df289147-6b52-4faa-921e-67cbb9e86d0f",
   "metadata": {},
   "outputs": [
    {
     "data": {
      "text/html": [
       "<div>\n",
       "<style scoped>\n",
       "    .dataframe tbody tr th:only-of-type {\n",
       "        vertical-align: middle;\n",
       "    }\n",
       "\n",
       "    .dataframe tbody tr th {\n",
       "        vertical-align: top;\n",
       "    }\n",
       "\n",
       "    .dataframe thead th {\n",
       "        text-align: right;\n",
       "    }\n",
       "</style>\n",
       "<table border=\"1\" class=\"dataframe\">\n",
       "  <thead>\n",
       "    <tr style=\"text-align: right;\">\n",
       "      <th></th>\n",
       "      <th>Category</th>\n",
       "      <th>Sub-Category</th>\n",
       "      <th>Sales</th>\n",
       "      <th>Quantity</th>\n",
       "      <th>Profit</th>\n",
       "    </tr>\n",
       "  </thead>\n",
       "  <tbody>\n",
       "    <tr>\n",
       "      <th>0</th>\n",
       "      <td>Technology</td>\n",
       "      <td>Printers</td>\n",
       "      <td>1199.19</td>\n",
       "      <td>1</td>\n",
       "      <td>-130.02</td>\n",
       "    </tr>\n",
       "    <tr>\n",
       "      <th>1</th>\n",
       "      <td>Technology</td>\n",
       "      <td>Accessories</td>\n",
       "      <td>604.32</td>\n",
       "      <td>1</td>\n",
       "      <td>-77.02</td>\n",
       "    </tr>\n",
       "    <tr>\n",
       "      <th>3</th>\n",
       "      <td>Technology</td>\n",
       "      <td>Phones</td>\n",
       "      <td>1630.08</td>\n",
       "      <td>1</td>\n",
       "      <td>161.28</td>\n",
       "    </tr>\n",
       "    <tr>\n",
       "      <th>22</th>\n",
       "      <td>Technology</td>\n",
       "      <td>Printers</td>\n",
       "      <td>1978.20</td>\n",
       "      <td>1</td>\n",
       "      <td>-233.97</td>\n",
       "    </tr>\n",
       "    <tr>\n",
       "      <th>37</th>\n",
       "      <td>Technology</td>\n",
       "      <td>Laptops</td>\n",
       "      <td>1745.91</td>\n",
       "      <td>1</td>\n",
       "      <td>579.45</td>\n",
       "    </tr>\n",
       "  </tbody>\n",
       "</table>\n",
       "</div>"
      ],
      "text/plain": [
       "      Category Sub-Category    Sales  Quantity  Profit\n",
       "0   Technology     Printers  1199.19         1 -130.02\n",
       "1   Technology  Accessories   604.32         1  -77.02\n",
       "3   Technology       Phones  1630.08         1  161.28\n",
       "22  Technology     Printers  1978.20         1 -233.97\n",
       "37  Technology      Laptops  1745.91         1  579.45"
      ]
     },
     "execution_count": 33,
     "metadata": {},
     "output_type": "execute_result"
    }
   ],
   "source": [
    "# sort by a multiple column\n",
    "# Category by asc, profit by desc\n",
    "\n",
    "df_multi_sorted = high_sales.sort_values(by=['Category','Quantity'], ascending=[False, True])\n",
    "df_multi_sorted.head()\n",
    "\n"
   ]
  },
  {
   "cell_type": "markdown",
   "id": "d7b21a80-9fb2-407a-90dd-fb29d3e28515",
   "metadata": {},
   "source": [
    "# Adding calculated columns"
   ]
  },
  {
   "cell_type": "code",
   "execution_count": 34,
   "id": "b5c787b9-4d0b-4b6a-8d78-44609379d196",
   "metadata": {},
   "outputs": [],
   "source": [
    "sales_data_df['Profit_Margin'] = (sales_data_df['Profit'] / sales_data_df['Sales']) * 100\n"
   ]
  },
  {
   "cell_type": "code",
   "execution_count": 35,
   "id": "bbf21620-607c-4ae1-8f71-2642f6003eeb",
   "metadata": {},
   "outputs": [
    {
     "data": {
      "text/html": [
       "<div>\n",
       "<style scoped>\n",
       "    .dataframe tbody tr th:only-of-type {\n",
       "        vertical-align: middle;\n",
       "    }\n",
       "\n",
       "    .dataframe tbody tr th {\n",
       "        vertical-align: top;\n",
       "    }\n",
       "\n",
       "    .dataframe thead th {\n",
       "        text-align: right;\n",
       "    }\n",
       "</style>\n",
       "<table border=\"1\" class=\"dataframe\">\n",
       "  <thead>\n",
       "    <tr style=\"text-align: right;\">\n",
       "      <th></th>\n",
       "      <th>Sales</th>\n",
       "      <th>Profit</th>\n",
       "      <th>Profit_Margin</th>\n",
       "    </tr>\n",
       "  </thead>\n",
       "  <tbody>\n",
       "    <tr>\n",
       "      <th>0</th>\n",
       "      <td>1199.19</td>\n",
       "      <td>-130.02</td>\n",
       "      <td>-10.842319</td>\n",
       "    </tr>\n",
       "    <tr>\n",
       "      <th>1</th>\n",
       "      <td>604.32</td>\n",
       "      <td>-77.02</td>\n",
       "      <td>-12.744903</td>\n",
       "    </tr>\n",
       "    <tr>\n",
       "      <th>2</th>\n",
       "      <td>695.77</td>\n",
       "      <td>142.39</td>\n",
       "      <td>20.465096</td>\n",
       "    </tr>\n",
       "    <tr>\n",
       "      <th>3</th>\n",
       "      <td>1630.08</td>\n",
       "      <td>161.28</td>\n",
       "      <td>9.893993</td>\n",
       "    </tr>\n",
       "    <tr>\n",
       "      <th>4</th>\n",
       "      <td>1172.57</td>\n",
       "      <td>361.32</td>\n",
       "      <td>30.814365</td>\n",
       "    </tr>\n",
       "  </tbody>\n",
       "</table>\n",
       "</div>"
      ],
      "text/plain": [
       "     Sales  Profit  Profit_Margin\n",
       "0  1199.19 -130.02     -10.842319\n",
       "1   604.32  -77.02     -12.744903\n",
       "2   695.77  142.39      20.465096\n",
       "3  1630.08  161.28       9.893993\n",
       "4  1172.57  361.32      30.814365"
      ]
     },
     "execution_count": 35,
     "metadata": {},
     "output_type": "execute_result"
    }
   ],
   "source": [
    "sales_data_df[['Sales', 'Profit', 'Profit_Margin']].head()"
   ]
  },
  {
   "cell_type": "code",
   "execution_count": null,
   "id": "9aa47458",
   "metadata": {},
   "outputs": [],
   "source": []
  }
 ],
 "metadata": {
  "kernelspec": {
   "display_name": "Python 3",
   "language": "python",
   "name": "python3"
  },
  "language_info": {
   "codemirror_mode": {
    "name": "ipython",
    "version": 3
   },
   "file_extension": ".py",
   "mimetype": "text/x-python",
   "name": "python",
   "nbconvert_exporter": "python",
   "pygments_lexer": "ipython3",
   "version": "3.13.9"
  }
 },
 "nbformat": 4,
 "nbformat_minor": 5
}
