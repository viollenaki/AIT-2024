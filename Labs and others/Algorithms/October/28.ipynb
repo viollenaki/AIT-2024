{
 "cells": [
  {
   "cell_type": "code",
   "execution_count": null,
   "id": "0961365b",
   "metadata": {},
   "outputs": [
    {
     "name": "stdout",
     "output_type": "stream",
     "text": [
      "[0, 1, 2, 3, 7, 8, 10]\n"
     ]
    }
   ],
   "source": [
    "def quick(arr):\n",
    "    if len(arr) <= 1:\n",
    "        return arr\n",
    "    pivot = arr[len(arr)//2]\n",
    "    left, middle, right = [x for x in arr if x < pivot], [x for x in arr if x == pivot], [x for x in arr if x > pivot]\n",
    "    return quick(left) + middle + quick(right)\n",
    "\n",
    "nums = [8, 3, 1, 7, 0, 10, 2]\n",
    "print(quick(nums))\n",
    "            "
   ]
  },
  {
   "cell_type": "code",
   "execution_count": null,
   "id": "6cbfe41e",
   "metadata": {},
   "outputs": [],
   "source": [
    "def bubble(arr):\n",
    "    for i in range(len(arr)):\n",
    "        for j in range(0, len(arr)-i-1):\n",
    "            if arr[j] > arr[j+1]:\n",
    "                arr[j], arr[j+1] = arr[j+1], arr[j]\n",
    "    return arr\n"
   ]
  },
  {
   "cell_type": "code",
   "execution_count": 16,
   "id": "e5e76f3f",
   "metadata": {},
   "outputs": [
    {
     "name": "stdout",
     "output_type": "stream",
     "text": [
      "23.253496664211536\n"
     ]
    }
   ],
   "source": [
    "import math\n",
    "print(math.log2(10000000))"
   ]
  },
  {
   "cell_type": "code",
   "execution_count": null,
   "id": "8e20a9ab",
   "metadata": {},
   "outputs": [],
   "source": []
  }
 ],
 "metadata": {
  "kernelspec": {
   "display_name": "Python 3",
   "language": "python",
   "name": "python3"
  },
  "language_info": {
   "codemirror_mode": {
    "name": "ipython",
    "version": 3
   },
   "file_extension": ".py",
   "mimetype": "text/x-python",
   "name": "python",
   "nbconvert_exporter": "python",
   "pygments_lexer": "ipython3",
   "version": "3.10.0"
  }
 },
 "nbformat": 4,
 "nbformat_minor": 5
}
