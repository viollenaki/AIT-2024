{
 "cells": [
  {
   "cell_type": "code",
   "execution_count": 12,
   "id": "82ecad1b",
   "metadata": {},
   "outputs": [
    {
     "name": "stdout",
     "output_type": "stream",
     "text": [
      "[27]\n",
      "left extended []\n",
      "right extended [43]\n",
      "result [27, 43]\n",
      "[27, 38]\n",
      "left extended []\n",
      "right extended [43]\n",
      "result [27, 38, 43]\n",
      "[3]\n",
      "left extended []\n",
      "right extended [9]\n",
      "result [3, 9]\n",
      "[10]\n",
      "left extended [82]\n",
      "right extended []\n",
      "result [10, 82]\n",
      "[3, 9]\n",
      "left extended []\n",
      "right extended [10, 82]\n",
      "result [3, 9, 10, 82]\n",
      "[3, 9, 10, 27, 38, 43]\n",
      "left extended []\n",
      "right extended [82]\n",
      "result [3, 9, 10, 27, 38, 43, 82]\n",
      "[3, 9, 10, 27, 38, 43, 82]\n"
     ]
    }
   ],
   "source": [
    "def merge_sort(arr):\n",
    "    if len(arr) <= 1:\n",
    "        return arr\n",
    "    mid = len(arr) // 2\n",
    "    left = merge_sort(arr[:mid])\n",
    "    right = merge_sort(arr[mid:])\n",
    "    return merge(left, right)\n",
    "\n",
    "def merge(left, right):\n",
    "    result = []\n",
    "    i = j = 0\n",
    "    while i < len(left) and j < len(right):\n",
    "        if left[i] < right[j]:\n",
    "            result.append(left[i])\n",
    "            i += 1\n",
    "        else:\n",
    "            result.append(right[j])\n",
    "            j += 1\n",
    "\n",
    "\n",
    "    print(result)\n",
    "    print('left extended', left[i:])\n",
    "    print('right extended', right[j:])\n",
    "    result.extend(left[i:])\n",
    "    result.extend(right[j:])\n",
    "    print('result',result)\n",
    "    return result\n",
    "\n",
    "# Пример использования:\n",
    "arr = [38, 27, 43, 3, 9, 82, 10]\n",
    "sorted_arr = merge_sort(arr)\n",
    "print(sorted_arr)"
   ]
  },
  {
   "cell_type": "code",
   "execution_count": 11,
   "id": "ec26c81a",
   "metadata": {},
   "outputs": [
    {
     "name": "stdout",
     "output_type": "stream",
     "text": [
      "[3, 5]\n"
     ]
    }
   ],
   "source": [
    "arrr = [1,2,3,5]\n",
    "print(arr[100:] + arrr[2:])"
   ]
  },
  {
   "cell_type": "code",
   "execution_count": null,
   "id": "32d06c99",
   "metadata": {},
   "outputs": [],
   "source": []
  }
 ],
 "metadata": {
  "kernelspec": {
   "display_name": "Python 3",
   "language": "python",
   "name": "python3"
  },
  "language_info": {
   "codemirror_mode": {
    "name": "ipython",
    "version": 3
   },
   "file_extension": ".py",
   "mimetype": "text/x-python",
   "name": "python",
   "nbconvert_exporter": "python",
   "pygments_lexer": "ipython3",
   "version": "3.10.0"
  }
 },
 "nbformat": 4,
 "nbformat_minor": 5
}
