{
 "cells": [
  {
   "cell_type": "code",
   "execution_count": null,
   "id": "ff020675",
   "metadata": {},
   "outputs": [
    {
     "name": "stdout",
     "output_type": "stream",
     "text": [
      "{3, 4, 5, 6, -1}\n",
      "[-1, 3, 3, 4, 5, 5, 6]\n",
      "[6]\n"
     ]
    }
   ],
   "source": [
    "arr = [3,5,6,3,-1,5,4]\n",
    "\n",
    "def my_sort(arr):\n",
    "    new_arr = []\n",
    "    while len(arr) != 1:\n",
    "        min_n = float('inf')\n",
    "        min_id = 0\n",
    "        for i, j in enumerate(arr):\n",
    "            if j < min_n:\n",
    "                min_n = j\n",
    "                min_id = i\n",
    "        new_arr.append(min_n)\n",
    "        arr.pop(min_id)\n",
    "    new_arr.append(arr[0])\n",
    "    return new_arr\n",
    "\n",
    "def my_sort2(arr):\n",
    "    for i in range(len(arr)):\n",
    "        for j in range(i+1, len(arr)):\n",
    "            if arr[i] > arr[j]:\n",
    "                arr[i], arr[j] = arr[j], arr[i]\n",
    "    return arr\n",
    "\n",
    "# my_sort2 (selection sort) is generally faster and requires less power.\n",
    "# my_sort repeatedly finds and removes the minimum, which is O(n^2) with extra list operations (pop).\n",
    "# my_sort2 does in-place swaps, so it uses less memory and is more efficient in practice.\n",
    "\n",
    "\n",
    "print(my_sort(arr))\n",
    "print(my_sort2(arr))\n",
    "        \n",
    "            "
   ]
  },
  {
   "cell_type": "code",
   "execution_count": 5,
   "id": "73e8d40a",
   "metadata": {},
   "outputs": [
    {
     "name": "stdout",
     "output_type": "stream",
     "text": [
      "3 5 5\n"
     ]
    }
   ],
   "source": [
    "a = 5\n",
    "b = a\n",
    "c = b\n",
    "a = 3\n",
    "print(a, b, c)  # Outputs: 3 5 5\n"
   ]
  },
  {
   "cell_type": "code",
   "execution_count": null,
   "id": "f0d66b62",
   "metadata": {},
   "outputs": [
    {
     "name": "stdout",
     "output_type": "stream",
     "text": [
      "I become the guy.\n"
     ]
    }
   ],
   "source": [
    "n = int(input())\n",
    "levels_p = list(map(int, input().split()))\n",
    "levels_q = list(map(int, input().split()))\n",
    "new_p = set(levels_p[1:])\n",
    "new_q = set(levels_q[1:])\n",
    "if sorted(new_p.union(new_q))[-1] == n and sorted(new_p.union(new_q))[-1]=len(new_p.union(new_q)):\n",
    "    print(\"I become the guy.\")\n",
    "else:\n",
    "    print(\"Oh, my keyboard!\")"
   ]
  },
  {
   "cell_type": "code",
   "execution_count": null,
   "id": "51c6d50b",
   "metadata": {},
   "outputs": [],
   "source": []
  }
 ],
 "metadata": {
  "kernelspec": {
   "display_name": "Python 3",
   "language": "python",
   "name": "python3"
  },
  "language_info": {
   "codemirror_mode": {
    "name": "ipython",
    "version": 3
   },
   "file_extension": ".py",
   "mimetype": "text/x-python",
   "name": "python",
   "nbconvert_exporter": "python",
   "pygments_lexer": "ipython3",
   "version": "3.13.7"
  }
 },
 "nbformat": 4,
 "nbformat_minor": 5
}
